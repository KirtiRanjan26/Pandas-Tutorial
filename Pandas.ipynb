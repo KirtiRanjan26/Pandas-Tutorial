{
  "nbformat": 4,
  "nbformat_minor": 0,
  "metadata": {
    "colab": {
      "provenance": [],
      "authorship_tag": "ABX9TyMniieAEFB8MxNHxf0n+Q5d",
      "include_colab_link": true
    },
    "kernelspec": {
      "name": "python3",
      "display_name": "Python 3"
    },
    "language_info": {
      "name": "python"
    }
  },
  "cells": [
    {
      "cell_type": "markdown",
      "metadata": {
        "id": "view-in-github",
        "colab_type": "text"
      },
      "source": [
        "<a href=\"https://colab.research.google.com/github/KirtiRanjan26/Pandas-Tutorial/blob/main/Pandas.ipynb\" target=\"_parent\"><img src=\"https://colab.research.google.com/assets/colab-badge.svg\" alt=\"Open In Colab\"/></a>"
      ]
    },
    {
      "cell_type": "markdown",
      "source": [
        "## Why use Pandas?\n",
        "Handles large datasets easily compared to Excel.\n",
        "\n",
        "Convenient syntax for filtering, grouping, and transforming data.\n",
        "\n",
        "Works well with CSV, Excel, SQL databases, JSON, and more.\n",
        "\n",
        "Built on top of NumPy, so it’s fast and integrates with other data science libraries.\n",
        "\n"
      ],
      "metadata": {
        "id": "TJm-gWH-FfV0"
      }
    },
    {
      "cell_type": "code",
      "source": [
        "import pandas as pd"
      ],
      "metadata": {
        "id": "Y87RXe2qFwDA"
      },
      "execution_count": 1,
      "outputs": []
    },
    {
      "cell_type": "code",
      "execution_count": 2,
      "metadata": {
        "colab": {
          "base_uri": "https://localhost:8080/"
        },
        "id": "JP--qKEgE4fw",
        "outputId": "96a712e4-45ef-47b4-8115-71ba95aaa7a8"
      },
      "outputs": [
        {
          "output_type": "stream",
          "name": "stdout",
          "text": [
            "a    10\n",
            "b    20\n",
            "c    30\n",
            "dtype: int64\n"
          ]
        }
      ],
      "source": [
        "# series :-1D labeled array (like a single Excel column).\n",
        "s = pd.Series([10, 20, 30], index=['a', 'b', 'c'])\n",
        "print(s)\n"
      ]
    },
    {
      "cell_type": "markdown",
      "source": [
        "### Dataframe"
      ],
      "metadata": {
        "id": "yp8uAjp4Kvht"
      }
    },
    {
      "cell_type": "code",
      "source": [
        "# create empty dataframe\n",
        "import pandas as pd\n",
        "df = pd.DataFrame()\n",
        "print(df)\n",
        "# create dataframe from list\n",
        "data = [1,2,3,4,5]\n",
        "df = pd.DataFrame(data)\n",
        "print(df)\n",
        "data = [['Alex',10],['Bob',12],['Clarke',13]]\n",
        "df = pd.DataFrame(data,columns=['Name','Age'])\n",
        "print(df)\n"
      ],
      "metadata": {
        "colab": {
          "base_uri": "https://localhost:8080/"
        },
        "id": "ltqLudQ1G0pG",
        "outputId": "8b646f97-79a5-417e-a84e-67e19b058c71"
      },
      "execution_count": 8,
      "outputs": [
        {
          "output_type": "stream",
          "name": "stdout",
          "text": [
            "Empty DataFrame\n",
            "Columns: []\n",
            "Index: []\n",
            "   0\n",
            "0  1\n",
            "1  2\n",
            "2  3\n",
            "3  4\n",
            "4  5\n",
            "     Name  Age\n",
            "0    Alex   10\n",
            "1     Bob   12\n",
            "2  Clarke   13\n"
          ]
        }
      ]
    },
    {
      "cell_type": "code",
      "source": [
        "# create a dataframe from Dictionary\n",
        "data = {'Name':['Tom', 'Jack', 'Steve', 'Ricky'],'Age':[28,34,29,42]}\n",
        "df = pd.DataFrame(data)\n",
        "print(df)\n",
        "# remove default index\n",
        "print(df.to_string(index= False))\n",
        "#\n"
      ],
      "metadata": {
        "colab": {
          "base_uri": "https://localhost:8080/"
        },
        "id": "NSQLNLTlH4tn",
        "outputId": "9afa1906-c166-46d9-d2d7-200285663bf0"
      },
      "execution_count": 15,
      "outputs": [
        {
          "output_type": "stream",
          "name": "stdout",
          "text": [
            "    Name  Age\n",
            "0    Tom   28\n",
            "1   Jack   34\n",
            "2  Steve   29\n",
            "3  Ricky   42\n",
            " Name  Age\n",
            "  Tom   28\n",
            " Jack   34\n",
            "Steve   29\n",
            "Ricky   42\n"
          ]
        }
      ]
    },
    {
      "cell_type": "code",
      "source": [
        "# dataframe from series\n",
        "import pandas as pd\n",
        "\n",
        "data = {'one' : pd.Series([1, 2, 3], index=['a', 'b', 'c']),\n",
        "   'two' : pd.Series([1, 2, 3, 4], index=['a', 'b', 'c', 'd'])}\n",
        "\n",
        "df = pd.DataFrame(data)\n",
        "print(df)"
      ],
      "metadata": {
        "colab": {
          "base_uri": "https://localhost:8080/"
        },
        "id": "EYKMXoTFSQFE",
        "outputId": "1887d07b-ee63-458e-a1aa-56b7d8471559"
      },
      "execution_count": 16,
      "outputs": [
        {
          "output_type": "stream",
          "name": "stdout",
          "text": [
            "   one  two\n",
            "a  1.0    1\n",
            "b  2.0    2\n",
            "c  3.0    3\n",
            "d  NaN    4\n"
          ]
        }
      ]
    },
    {
      "cell_type": "code",
      "source": [
        "# read csv file\n",
        "df=pd.read_csv('/content/sample_data/california_housing_test.csv')\n",
        "print(df)"
      ],
      "metadata": {
        "colab": {
          "base_uri": "https://localhost:8080/"
        },
        "id": "oboKJvyCS5JL",
        "outputId": "76f1a6c1-67e3-4aa1-b500-eeb6d388bb07"
      },
      "execution_count": 20,
      "outputs": [
        {
          "output_type": "stream",
          "name": "stdout",
          "text": [
            "      longitude  latitude  housing_median_age  total_rooms  total_bedrooms  \\\n",
            "0       -122.05     37.37                27.0       3885.0           661.0   \n",
            "1       -118.30     34.26                43.0       1510.0           310.0   \n",
            "2       -117.81     33.78                27.0       3589.0           507.0   \n",
            "3       -118.36     33.82                28.0         67.0            15.0   \n",
            "4       -119.67     36.33                19.0       1241.0           244.0   \n",
            "...         ...       ...                 ...          ...             ...   \n",
            "2995    -119.86     34.42                23.0       1450.0           642.0   \n",
            "2996    -118.14     34.06                27.0       5257.0          1082.0   \n",
            "2997    -119.70     36.30                10.0        956.0           201.0   \n",
            "2998    -117.12     34.10                40.0         96.0            14.0   \n",
            "2999    -119.63     34.42                42.0       1765.0           263.0   \n",
            "\n",
            "      population  households  median_income  median_house_value  \n",
            "0         1537.0       606.0         6.6085            344700.0  \n",
            "1          809.0       277.0         3.5990            176500.0  \n",
            "2         1484.0       495.0         5.7934            270500.0  \n",
            "3           49.0        11.0         6.1359            330000.0  \n",
            "4          850.0       237.0         2.9375             81700.0  \n",
            "...          ...         ...            ...                 ...  \n",
            "2995      1258.0       607.0         1.1790            225000.0  \n",
            "2996      3496.0      1036.0         3.3906            237200.0  \n",
            "2997       693.0       220.0         2.2895             62000.0  \n",
            "2998        46.0        14.0         3.2708            162500.0  \n",
            "2999       753.0       260.0         8.5608            500001.0  \n",
            "\n",
            "[3000 rows x 9 columns]\n"
          ]
        }
      ]
    },
    {
      "cell_type": "code",
      "source": [
        "# save data as csv file\n",
        "data = {'Name':['Tom', 'Jack', 'Steve', 'Ricky'],'Age':[28,34,29,42]}\n",
        "df=pd.DataFrame(data)\n",
        "print(df.to_csv('new.csv',index=False))\n",
        "df=pd.read_csv('/content/new.csv')\n",
        "print(df)\n"
      ],
      "metadata": {
        "colab": {
          "base_uri": "https://localhost:8080/"
        },
        "id": "GhVan3CST7rR",
        "outputId": "0fa0e3b7-cd32-4485-8b8f-aef208d7fea6"
      },
      "execution_count": 22,
      "outputs": [
        {
          "output_type": "stream",
          "name": "stdout",
          "text": [
            "None\n",
            "    Name  Age\n",
            "0    Tom   28\n",
            "1   Jack   34\n",
            "2  Steve   29\n",
            "3  Ricky   42\n"
          ]
        }
      ]
    },
    {
      "cell_type": "markdown",
      "source": [
        "### Accessing the DataFrame"
      ],
      "metadata": {
        "id": "H2iBAoBbSp6v"
      }
    },
    {
      "cell_type": "code",
      "source": [
        "import pandas as pd\n",
        "\n",
        "# Create a DataFrame\n",
        "data={\n",
        "    'Name': ['Steve', 'Lia', 'Vin', 'Katie'],\n",
        "    'Age': [32, 28, 45, 38],\n",
        "    'Gender': ['Male', 'Female', 'Male', 'Female'],\n",
        "    'Rating': [3.45, 4.6, 3.9, 2.78]}\n",
        "df=pd.DataFrame(data,index=['r1','r2','r3','r4'])\n",
        "print(df)\n",
        "\n",
        "# Access the rows of the DataFrame\n",
        "result = df.index\n",
        "print('Output Accessed Row Labels:', result)\n",
        "df.index = [100, 200, 300, 400]\n",
        "print('Output Modified DataFrame with the updated index labels:\\n', df)"
      ],
      "metadata": {
        "colab": {
          "base_uri": "https://localhost:8080/"
        },
        "id": "glLs_OCFSsAy",
        "outputId": "8abe8475-b4d7-492f-87ff-1c982e974f77"
      },
      "execution_count": 1,
      "outputs": [
        {
          "output_type": "stream",
          "name": "stdout",
          "text": [
            "     Name  Age  Gender  Rating\n",
            "r1  Steve   32    Male    3.45\n",
            "r2    Lia   28  Female    4.60\n",
            "r3    Vin   45    Male    3.90\n",
            "r4  Katie   38  Female    2.78\n",
            "Output Accessed Row Labels: Index(['r1', 'r2', 'r3', 'r4'], dtype='object')\n",
            "Output Modified DataFrame with the updated index labels:\n",
            "       Name  Age  Gender  Rating\n",
            "100  Steve   32    Male    3.45\n",
            "200    Lia   28  Female    4.60\n",
            "300    Vin   45    Male    3.90\n",
            "400  Katie   38  Female    2.78\n"
          ]
        }
      ]
    },
    {
      "cell_type": "code",
      "source": [
        "print(df['Name']) # simple way to access single column\n"
      ],
      "metadata": {
        "colab": {
          "base_uri": "https://localhost:8080/"
        },
        "id": "RGX_PX05d188",
        "outputId": "cbc3651d-8b74-4de9-8cf6-d8af22f5e30b"
      },
      "execution_count": 6,
      "outputs": [
        {
          "output_type": "stream",
          "name": "stdout",
          "text": [
            "100    Steve\n",
            "200      Lia\n",
            "300      Vin\n",
            "400    Katie\n",
            "Name: Name, dtype: object\n"
          ]
        }
      ]
    },
    {
      "cell_type": "code",
      "source": [
        "# Use loc if you know the labels.\n",
        "df\n",
        "#df.loc[['index or label name'],['column name']]\n",
        "print(\"print single value:\\n\",df.loc[200,'Name'])   # Single value → 50\n",
        "print(\"print multivalue serialwise\\n\",df.loc[100:300, 'Name'])    # Slice by labels\n",
        "print(\"print multiplevalue in any position\\n\",df.loc[[100, 400], ['Rating','Name']])  # Multiple rows & columns\n",
        "print(\"print easy syntex for single or multiple value\\n\",df.loc[[200],['Name']])\n"
      ],
      "metadata": {
        "colab": {
          "base_uri": "https://localhost:8080/"
        },
        "id": "0_qM9U9wf79z",
        "outputId": "6ccadb2c-d896-40e0-ad10-cd787401f03a"
      },
      "execution_count": 16,
      "outputs": [
        {
          "output_type": "stream",
          "name": "stdout",
          "text": [
            "print single value:\n",
            " Lia\n",
            "print multivalue serialwise\n",
            " 100    Steve\n",
            "200      Lia\n",
            "300      Vin\n",
            "Name: Name, dtype: object\n",
            "print multiplevalue in any position\n",
            "      Rating   Name\n",
            "100    3.45  Steve\n",
            "400    2.78  Katie\n",
            "print easy syntex for single or multiple value\n",
            "     Name\n",
            "200  Lia\n"
          ]
        }
      ]
    },
    {
      "cell_type": "code",
      "source": [
        "# Use iloc if you know the integer positions.\n",
        "\n"
      ],
      "metadata": {
        "id": "a4bnWMiolYZn"
      },
      "execution_count": null,
      "outputs": []
    },
    {
      "cell_type": "code",
      "source": [
        "# Use at for one value by label (fast).\n",
        "\n",
        "# Use iat for one value by position (fast).\n",
        "\n"
      ],
      "metadata": {
        "id": "mhdM2fELgB5M"
      },
      "execution_count": null,
      "outputs": []
    },
    {
      "cell_type": "code",
      "source": [],
      "metadata": {
        "id": "3Hg5zICQgB3Y"
      },
      "execution_count": null,
      "outputs": []
    },
    {
      "cell_type": "code",
      "source": [],
      "metadata": {
        "id": "QZzMmXQpgBzn"
      },
      "execution_count": null,
      "outputs": []
    }
  ]
}