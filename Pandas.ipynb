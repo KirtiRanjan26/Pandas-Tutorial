{
  "nbformat": 4,
  "nbformat_minor": 0,
  "metadata": {
    "colab": {
      "provenance": [],
      "authorship_tag": "ABX9TyMYwR901xMs+HK5e0MC5hqg",
      "include_colab_link": true
    },
    "kernelspec": {
      "name": "python3",
      "display_name": "Python 3"
    },
    "language_info": {
      "name": "python"
    }
  },
  "cells": [
    {
      "cell_type": "markdown",
      "metadata": {
        "id": "view-in-github",
        "colab_type": "text"
      },
      "source": [
        "<a href=\"https://colab.research.google.com/github/KirtiRanjan26/Pandas-Tutorial/blob/main/Pandas.ipynb\" target=\"_parent\"><img src=\"https://colab.research.google.com/assets/colab-badge.svg\" alt=\"Open In Colab\"/></a>"
      ]
    },
    {
      "cell_type": "markdown",
      "source": [
        "## Why use Pandas?\n",
        "Handles large datasets easily compared to Excel.\n",
        "\n",
        "Convenient syntax for filtering, grouping, and transforming data.\n",
        "\n",
        "Works well with CSV, Excel, SQL databases, JSON, and more.\n",
        "\n",
        "Built on top of NumPy, so it’s fast and integrates with other data science libraries.\n",
        "\n"
      ],
      "metadata": {
        "id": "TJm-gWH-FfV0"
      }
    },
    {
      "cell_type": "code",
      "source": [
        "import pandas as pd"
      ],
      "metadata": {
        "id": "Y87RXe2qFwDA"
      },
      "execution_count": 4,
      "outputs": []
    },
    {
      "cell_type": "code",
      "execution_count": 2,
      "metadata": {
        "colab": {
          "base_uri": "https://localhost:8080/"
        },
        "id": "JP--qKEgE4fw",
        "outputId": "96a712e4-45ef-47b4-8115-71ba95aaa7a8"
      },
      "outputs": [
        {
          "output_type": "stream",
          "name": "stdout",
          "text": [
            "a    10\n",
            "b    20\n",
            "c    30\n",
            "dtype: int64\n"
          ]
        }
      ],
      "source": [
        "# series :-1D labeled array (like a single Excel column).\n",
        "s = pd.Series([10, 20, 30], index=['a', 'b', 'c'])\n",
        "print(s)\n"
      ]
    },
    {
      "cell_type": "markdown",
      "source": [
        "### Dataframe"
      ],
      "metadata": {
        "id": "yp8uAjp4Kvht"
      }
    },
    {
      "cell_type": "code",
      "source": [
        "# create empty dataframe\n",
        "import pandas as pd\n",
        "df = pd.DataFrame()\n",
        "print(df)\n",
        "# create dataframe from list\n",
        "data = [1,2,3,4,5]\n",
        "df = pd.DataFrame(data)\n",
        "print(df)\n",
        "data = [['Alex',10],['Bob',12],['Clarke',13]]\n",
        "df = pd.DataFrame(data,columns=['Name','Age'])\n",
        "print(df)\n"
      ],
      "metadata": {
        "colab": {
          "base_uri": "https://localhost:8080/"
        },
        "id": "ltqLudQ1G0pG",
        "outputId": "8b646f97-79a5-417e-a84e-67e19b058c71"
      },
      "execution_count": 8,
      "outputs": [
        {
          "output_type": "stream",
          "name": "stdout",
          "text": [
            "Empty DataFrame\n",
            "Columns: []\n",
            "Index: []\n",
            "   0\n",
            "0  1\n",
            "1  2\n",
            "2  3\n",
            "3  4\n",
            "4  5\n",
            "     Name  Age\n",
            "0    Alex   10\n",
            "1     Bob   12\n",
            "2  Clarke   13\n"
          ]
        }
      ]
    },
    {
      "cell_type": "code",
      "source": [
        "# create a dataframe from Dictionary\n",
        "data = {'Name':['Tom', 'Jack', 'Steve', 'Ricky'],'Age':[28,34,29,42]}\n",
        "df = pd.DataFrame(data)\n",
        "print(df)\n",
        "# remove default index\n",
        "print(df.to_string(index= False))\n",
        "#\n"
      ],
      "metadata": {
        "colab": {
          "base_uri": "https://localhost:8080/"
        },
        "id": "NSQLNLTlH4tn",
        "outputId": "9afa1906-c166-46d9-d2d7-200285663bf0"
      },
      "execution_count": 15,
      "outputs": [
        {
          "output_type": "stream",
          "name": "stdout",
          "text": [
            "    Name  Age\n",
            "0    Tom   28\n",
            "1   Jack   34\n",
            "2  Steve   29\n",
            "3  Ricky   42\n",
            " Name  Age\n",
            "  Tom   28\n",
            " Jack   34\n",
            "Steve   29\n",
            "Ricky   42\n"
          ]
        }
      ]
    },
    {
      "cell_type": "code",
      "source": [
        "# dataframe from series\n",
        "import pandas as pd\n",
        "\n",
        "data = {'one' : pd.Series([1, 2, 3], index=['a', 'b', 'c']),\n",
        "   'two' : pd.Series([1, 2, 3, 4], index=['a', 'b', 'c', 'd'])}\n",
        "\n",
        "df = pd.DataFrame(data)\n",
        "print(df)"
      ],
      "metadata": {
        "colab": {
          "base_uri": "https://localhost:8080/"
        },
        "id": "EYKMXoTFSQFE",
        "outputId": "1887d07b-ee63-458e-a1aa-56b7d8471559"
      },
      "execution_count": 16,
      "outputs": [
        {
          "output_type": "stream",
          "name": "stdout",
          "text": [
            "   one  two\n",
            "a  1.0    1\n",
            "b  2.0    2\n",
            "c  3.0    3\n",
            "d  NaN    4\n"
          ]
        }
      ]
    },
    {
      "cell_type": "code",
      "source": [
        "# read csv file\n",
        "df=pd.read_csv('/content/sample_data/california_housing_test.csv')\n",
        "print(df)"
      ],
      "metadata": {
        "colab": {
          "base_uri": "https://localhost:8080/"
        },
        "id": "oboKJvyCS5JL",
        "outputId": "76f1a6c1-67e3-4aa1-b500-eeb6d388bb07"
      },
      "execution_count": 20,
      "outputs": [
        {
          "output_type": "stream",
          "name": "stdout",
          "text": [
            "      longitude  latitude  housing_median_age  total_rooms  total_bedrooms  \\\n",
            "0       -122.05     37.37                27.0       3885.0           661.0   \n",
            "1       -118.30     34.26                43.0       1510.0           310.0   \n",
            "2       -117.81     33.78                27.0       3589.0           507.0   \n",
            "3       -118.36     33.82                28.0         67.0            15.0   \n",
            "4       -119.67     36.33                19.0       1241.0           244.0   \n",
            "...         ...       ...                 ...          ...             ...   \n",
            "2995    -119.86     34.42                23.0       1450.0           642.0   \n",
            "2996    -118.14     34.06                27.0       5257.0          1082.0   \n",
            "2997    -119.70     36.30                10.0        956.0           201.0   \n",
            "2998    -117.12     34.10                40.0         96.0            14.0   \n",
            "2999    -119.63     34.42                42.0       1765.0           263.0   \n",
            "\n",
            "      population  households  median_income  median_house_value  \n",
            "0         1537.0       606.0         6.6085            344700.0  \n",
            "1          809.0       277.0         3.5990            176500.0  \n",
            "2         1484.0       495.0         5.7934            270500.0  \n",
            "3           49.0        11.0         6.1359            330000.0  \n",
            "4          850.0       237.0         2.9375             81700.0  \n",
            "...          ...         ...            ...                 ...  \n",
            "2995      1258.0       607.0         1.1790            225000.0  \n",
            "2996      3496.0      1036.0         3.3906            237200.0  \n",
            "2997       693.0       220.0         2.2895             62000.0  \n",
            "2998        46.0        14.0         3.2708            162500.0  \n",
            "2999       753.0       260.0         8.5608            500001.0  \n",
            "\n",
            "[3000 rows x 9 columns]\n"
          ]
        }
      ]
    },
    {
      "cell_type": "code",
      "source": [
        "# save data as csv file\n",
        "data = {'Name':['Tom', 'Jack', 'Steve', 'Ricky'],'Age':[28,34,29,42]}\n",
        "df=pd.DataFrame(data)\n",
        "print(df.to_csv('new.csv',index=False))\n",
        "df=pd.read_csv('/content/new.csv')\n",
        "print(df)\n"
      ],
      "metadata": {
        "colab": {
          "base_uri": "https://localhost:8080/"
        },
        "id": "GhVan3CST7rR",
        "outputId": "0fa0e3b7-cd32-4485-8b8f-aef208d7fea6"
      },
      "execution_count": 22,
      "outputs": [
        {
          "output_type": "stream",
          "name": "stdout",
          "text": [
            "None\n",
            "    Name  Age\n",
            "0    Tom   28\n",
            "1   Jack   34\n",
            "2  Steve   29\n",
            "3  Ricky   42\n"
          ]
        }
      ]
    },
    {
      "cell_type": "markdown",
      "source": [
        "### Accessing the DataFrame"
      ],
      "metadata": {
        "id": "H2iBAoBbSp6v"
      }
    },
    {
      "cell_type": "code",
      "source": [
        "import pandas as pd\n",
        "\n",
        "# Create a DataFrame\n",
        "data={\n",
        "    'Name': ['Steve', 'Lia', 'Vin', 'Katie'],\n",
        "    'Age': [32, 28, 45, 38],\n",
        "    'Gender': ['Male', 'Female', 'Male', 'Female'],\n",
        "    'Rating': [3.45, 4.6, 3.9, 2.78]}\n",
        "df=pd.DataFrame(data,index=['r1','r2','r3','r4'])\n",
        "print(df)\n",
        "\n",
        "# Access the rows of the DataFrame\n",
        "result = df.index\n",
        "print('Output Accessed Row Labels:', result)\n",
        "df.index = [100, 200, 300, 400]\n",
        "print('Output Modified DataFrame with the updated index labels:\\n', df)"
      ],
      "metadata": {
        "colab": {
          "base_uri": "https://localhost:8080/"
        },
        "id": "glLs_OCFSsAy",
        "outputId": "bca07c31-2aba-4644-9df8-16f9dafd6355"
      },
      "execution_count": 2,
      "outputs": [
        {
          "output_type": "stream",
          "name": "stdout",
          "text": [
            "     Name  Age  Gender  Rating\n",
            "r1  Steve   32    Male    3.45\n",
            "r2    Lia   28  Female    4.60\n",
            "r3    Vin   45    Male    3.90\n",
            "r4  Katie   38  Female    2.78\n",
            "Output Accessed Row Labels: Index(['r1', 'r2', 'r3', 'r4'], dtype='object')\n",
            "Output Modified DataFrame with the updated index labels:\n",
            "       Name  Age  Gender  Rating\n",
            "100  Steve   32    Male    3.45\n",
            "200    Lia   28  Female    4.60\n",
            "300    Vin   45    Male    3.90\n",
            "400  Katie   38  Female    2.78\n"
          ]
        }
      ]
    },
    {
      "cell_type": "code",
      "source": [
        "print(df['Name']) # simple way to access single column\n"
      ],
      "metadata": {
        "colab": {
          "base_uri": "https://localhost:8080/"
        },
        "id": "RGX_PX05d188",
        "outputId": "cbc3651d-8b74-4de9-8cf6-d8af22f5e30b"
      },
      "execution_count": 6,
      "outputs": [
        {
          "output_type": "stream",
          "name": "stdout",
          "text": [
            "100    Steve\n",
            "200      Lia\n",
            "300      Vin\n",
            "400    Katie\n",
            "Name: Name, dtype: object\n"
          ]
        }
      ]
    },
    {
      "cell_type": "code",
      "source": [
        "# Use loc if you know the labels.\n",
        "df\n",
        "#df.loc[['index or label name'],['column name']]\n",
        "print(\"print single value:\\n\",df.loc[200,'Name'])   # Single value → 50\n",
        "print(\"print multivalue serialwise\\n\",df.loc[100:300, 'Name'])    # Slice by labels\n",
        "print(\"print multiplevalue in any position\\n\",df.loc[[100, 400], ['Rating','Name']])  # Multiple rows & columns\n",
        "print(\"print easy syntex for single or multiple value\\n\",df.loc[[200],['Name']])\n"
      ],
      "metadata": {
        "colab": {
          "base_uri": "https://localhost:8080/"
        },
        "id": "0_qM9U9wf79z",
        "outputId": "6ccadb2c-d896-40e0-ad10-cd787401f03a"
      },
      "execution_count": 16,
      "outputs": [
        {
          "output_type": "stream",
          "name": "stdout",
          "text": [
            "print single value:\n",
            " Lia\n",
            "print multivalue serialwise\n",
            " 100    Steve\n",
            "200      Lia\n",
            "300      Vin\n",
            "Name: Name, dtype: object\n",
            "print multiplevalue in any position\n",
            "      Rating   Name\n",
            "100    3.45  Steve\n",
            "400    2.78  Katie\n",
            "print easy syntex for single or multiple value\n",
            "     Name\n",
            "200  Lia\n"
          ]
        }
      ]
    },
    {
      "cell_type": "code",
      "source": [
        "# Use iloc if you know the integer positions.\n",
        "print(df.iloc[[0,3],[0,2,3]])\n",
        "print(df.iloc[0:3,1]) # serial wise row and single column\n",
        "print(df.iloc[0:3,[0,3]]) #serial wise row and single column\n",
        "print(df.iloc[0:3,0:2]) # serial wise row and column\n"
      ],
      "metadata": {
        "colab": {
          "base_uri": "https://localhost:8080/"
        },
        "id": "a4bnWMiolYZn",
        "outputId": "5cb62710-6265-47b9-c57b-4e5d22b4da17"
      },
      "execution_count": 17,
      "outputs": [
        {
          "output_type": "stream",
          "name": "stdout",
          "text": [
            "      Name  Gender  Rating\n",
            "100  Steve    Male    3.45\n",
            "400  Katie  Female    2.78\n",
            "100    32\n",
            "200    28\n",
            "300    45\n",
            "Name: Age, dtype: int64\n",
            "      Name  Rating\n",
            "100  Steve    3.45\n",
            "200    Lia    4.60\n",
            "300    Vin    3.90\n",
            "      Name  Age\n",
            "100  Steve   32\n",
            "200    Lia   28\n",
            "300    Vin   45\n"
          ]
        }
      ]
    },
    {
      "cell_type": "code",
      "source": [
        "# Use at for one value by label (fast).\n",
        "print(df.at[300, 'Name'])\n",
        "\n",
        "# Use iat for one value by position (fast).\n",
        "print(df.iat[1, 1])\n",
        "\n"
      ],
      "metadata": {
        "colab": {
          "base_uri": "https://localhost:8080/"
        },
        "id": "mhdM2fELgB5M",
        "outputId": "f94f3fef-66c1-4929-8427-1368202ec56c"
      },
      "execution_count": 19,
      "outputs": [
        {
          "output_type": "stream",
          "name": "stdout",
          "text": [
            "Vin\n",
            "28\n"
          ]
        }
      ]
    },
    {
      "cell_type": "code",
      "source": [
        "\n",
        "import pandas as pd\n",
        "\n",
        "# Create a DataFrame\n",
        "data={\n",
        "    'Name': ['Steve', 'Lia', 'Vin', 'Katie'],\n",
        "    'Age': [32, 28, 45, 38],\n",
        "    'Gender': ['Male', 'Female', 'Male', 'Female'],\n",
        "    'Rating': [3.45, 4.6, 3.9, 2.78]}\n",
        "df=pd.DataFrame(data,index=['r1','r2','r3','r4'])\n",
        "print(df);\n",
        "print(df.info())\n",
        "# adding new row and new column"
      ],
      "metadata": {
        "colab": {
          "base_uri": "https://localhost:8080/"
        },
        "id": "WRpN8ggDzckB",
        "outputId": "0e317e58-c09e-4603-c31f-2a2eef23a683"
      },
      "execution_count": 26,
      "outputs": [
        {
          "output_type": "stream",
          "name": "stdout",
          "text": [
            "     Name  Age  Gender  Rating\n",
            "r1  Steve   32    Male    3.45\n",
            "r2    Lia   28  Female    4.60\n",
            "r3    Vin   45    Male    3.90\n",
            "r4  Katie   38  Female    2.78\n",
            "<class 'pandas.core.frame.DataFrame'>\n",
            "Index: 4 entries, r1 to r4\n",
            "Data columns (total 4 columns):\n",
            " #   Column  Non-Null Count  Dtype  \n",
            "---  ------  --------------  -----  \n",
            " 0   Name    4 non-null      object \n",
            " 1   Age     4 non-null      int64  \n",
            " 2   Gender  4 non-null      object \n",
            " 3   Rating  4 non-null      float64\n",
            "dtypes: float64(1), int64(1), object(2)\n",
            "memory usage: 160.0+ bytes\n",
            "None\n"
          ]
        }
      ]
    },
    {
      "cell_type": "code",
      "source": [
        "df=pd.read_csv('/content/sample_data/california_housing_test.csv')\n",
        "print(df.head())\n",
        "print(df.tail())"
      ],
      "metadata": {
        "colab": {
          "base_uri": "https://localhost:8080/"
        },
        "id": "3Hg5zICQgB3Y",
        "outputId": "c613b0cf-e58a-4ac3-b6cd-495570fa9a51"
      },
      "execution_count": 22,
      "outputs": [
        {
          "output_type": "stream",
          "name": "stdout",
          "text": [
            "   longitude  latitude  housing_median_age  total_rooms  total_bedrooms  \\\n",
            "0    -122.05     37.37                27.0       3885.0           661.0   \n",
            "1    -118.30     34.26                43.0       1510.0           310.0   \n",
            "2    -117.81     33.78                27.0       3589.0           507.0   \n",
            "3    -118.36     33.82                28.0         67.0            15.0   \n",
            "4    -119.67     36.33                19.0       1241.0           244.0   \n",
            "\n",
            "   population  households  median_income  median_house_value  \n",
            "0      1537.0       606.0         6.6085            344700.0  \n",
            "1       809.0       277.0         3.5990            176500.0  \n",
            "2      1484.0       495.0         5.7934            270500.0  \n",
            "3        49.0        11.0         6.1359            330000.0  \n",
            "4       850.0       237.0         2.9375             81700.0  \n",
            "      longitude  latitude  housing_median_age  total_rooms  total_bedrooms  \\\n",
            "2995    -119.86     34.42                23.0       1450.0           642.0   \n",
            "2996    -118.14     34.06                27.0       5257.0          1082.0   \n",
            "2997    -119.70     36.30                10.0        956.0           201.0   \n",
            "2998    -117.12     34.10                40.0         96.0            14.0   \n",
            "2999    -119.63     34.42                42.0       1765.0           263.0   \n",
            "\n",
            "      population  households  median_income  median_house_value  \n",
            "2995      1258.0       607.0         1.1790            225000.0  \n",
            "2996      3496.0      1036.0         3.3906            237200.0  \n",
            "2997       693.0       220.0         2.2895             62000.0  \n",
            "2998        46.0        14.0         3.2708            162500.0  \n",
            "2999       753.0       260.0         8.5608            500001.0  \n"
          ]
        }
      ]
    },
    {
      "cell_type": "code",
      "source": [
        "print(df.isna().sum().sum())\n"
      ],
      "metadata": {
        "colab": {
          "base_uri": "https://localhost:8080/"
        },
        "id": "QZzMmXQpgBzn",
        "outputId": "7feb326b-429d-4014-d05b-ff21e8e5919e"
      },
      "execution_count": 25,
      "outputs": [
        {
          "output_type": "stream",
          "name": "stdout",
          "text": [
            "0\n"
          ]
        }
      ]
    },
    {
      "cell_type": "code",
      "source": [
        "df=pd.read_csv('/large_missing_values.csv')\n",
        "print(df)\n"
      ],
      "metadata": {
        "colab": {
          "base_uri": "https://localhost:8080/"
        },
        "id": "c3qSpXV_NpIw",
        "outputId": "b8bb9abb-9d8d-4485-8cd9-5d27a5c17635"
      },
      "execution_count": 6,
      "outputs": [
        {
          "output_type": "stream",
          "name": "stdout",
          "text": [
            "    ID   Name   Age  Salary Department\n",
            "0    1    NaN  30.0  5000.0    Finance\n",
            "1    2  Ricky  40.0  4000.0         HR\n",
            "2    3   Emma   NaN  5000.0  Marketing\n",
            "3    4    NaN  25.0  3000.0         IT\n",
            "4    5  Steve  40.0  3500.0  Marketing\n",
            "5    6   Emma  30.0  4500.0         IT\n",
            "6    7   Emma   NaN  3000.0         IT\n",
            "7    8    NaN  40.0  4500.0  Marketing\n",
            "8    9   Jack  25.0     NaN        NaN\n",
            "9   10  Steve  25.0  3500.0         IT\n",
            "10  11    NaN  35.0  3500.0         IT\n",
            "11  12  Steve  35.0  3000.0  Marketing\n",
            "12  13  Steve  30.0  3500.0         IT\n",
            "13  14   Emma  40.0  5000.0         IT\n",
            "14  15  Ricky  40.0  3500.0  Marketing\n",
            "15  16  Steve  35.0  4500.0  Marketing\n",
            "16  17   Lily  40.0  4500.0         HR\n",
            "17  18   Emma  40.0  4500.0        NaN\n",
            "18  19   Jack  25.0  4500.0        NaN\n",
            "19  20  Ricky  35.0  5000.0         IT\n"
          ]
        }
      ]
    },
    {
      "cell_type": "code",
      "source": [
        "print(df.describe())# statistical summary"
      ],
      "metadata": {
        "colab": {
          "base_uri": "https://localhost:8080/"
        },
        "id": "NTwjTk9XOOoU",
        "outputId": "7df1c970-a964-47bf-a823-43a4056114d8"
      },
      "execution_count": 7,
      "outputs": [
        {
          "output_type": "stream",
          "name": "stdout",
          "text": [
            "             ID        Age       Salary\n",
            "count  20.00000  18.000000    19.000000\n",
            "mean   10.50000  33.888889  4078.947368\n",
            "std     5.91608   6.076850   731.496903\n",
            "min     1.00000  25.000000  3000.000000\n",
            "25%     5.75000  30.000000  3500.000000\n",
            "50%    10.50000  35.000000  4500.000000\n",
            "75%    15.25000  40.000000  4500.000000\n",
            "max    20.00000  40.000000  5000.000000\n"
          ]
        }
      ]
    },
    {
      "cell_type": "code",
      "source": [
        "# finding missing value\n",
        "print(df.isnull())"
      ],
      "metadata": {
        "colab": {
          "base_uri": "https://localhost:8080/"
        },
        "id": "n2-3kRYNOiz2",
        "outputId": "d530a1a3-8e48-493d-ffd8-c73000fbc3b6"
      },
      "execution_count": 29,
      "outputs": [
        {
          "output_type": "stream",
          "name": "stdout",
          "text": [
            "       ID   Name    Age  Salary  Department\n",
            "0   False   True  False   False       False\n",
            "1   False  False  False   False       False\n",
            "2   False  False   True   False       False\n",
            "3   False   True  False   False       False\n",
            "4   False  False  False   False       False\n",
            "5   False  False  False   False       False\n",
            "6   False  False   True   False       False\n",
            "7   False   True  False   False       False\n",
            "8   False  False  False    True        True\n",
            "9   False  False  False   False       False\n",
            "10  False   True  False   False       False\n",
            "11  False  False  False   False       False\n",
            "12  False  False  False   False       False\n",
            "13  False  False  False   False       False\n",
            "14  False  False  False   False       False\n",
            "15  False  False  False   False       False\n",
            "16  False  False  False   False       False\n",
            "17  False  False  False   False        True\n",
            "18  False  False  False   False        True\n",
            "19  False  False  False   False       False\n"
          ]
        }
      ]
    },
    {
      "cell_type": "code",
      "source": [
        "print(df.isnull().any()) # column wise\n",
        "print(\" total missing value entire dataset\",df.isnull().any().any()) # entire dataframe\n"
      ],
      "metadata": {
        "colab": {
          "base_uri": "https://localhost:8080/"
        },
        "id": "BEWARVtIPbif",
        "outputId": "4bd8902a-7ecc-4114-90d5-423dca14ff35"
      },
      "execution_count": 34,
      "outputs": [
        {
          "output_type": "stream",
          "name": "stdout",
          "text": [
            "ID            False\n",
            "Name           True\n",
            "Age            True\n",
            "Salary         True\n",
            "Department     True\n",
            "dtype: bool\n",
            " total missing value entire dataset True\n"
          ]
        }
      ]
    },
    {
      "cell_type": "code",
      "source": [
        "print(df.isnull().sum())"
      ],
      "metadata": {
        "colab": {
          "base_uri": "https://localhost:8080/"
        },
        "id": "-Dz-mHw7jJ_3",
        "outputId": "5538607b-e308-4852-b8ce-c5b6b7cc2160"
      },
      "execution_count": 8,
      "outputs": [
        {
          "output_type": "stream",
          "name": "stdout",
          "text": [
            "ID            0\n",
            "Name          4\n",
            "Age           2\n",
            "Salary        1\n",
            "Department    3\n",
            "dtype: int64\n"
          ]
        }
      ]
    },
    {
      "cell_type": "code",
      "source": [
        "df['Name']=df['Name'].fillna('Unknown') # without inplace modify data not change permanently in dataset\n",
        "print(df)\n"
      ],
      "metadata": {
        "colab": {
          "base_uri": "https://localhost:8080/"
        },
        "id": "vZ-AC7YQkfjS",
        "outputId": "4b1a21c0-821b-43ec-88d4-0cae39039879"
      },
      "execution_count": 10,
      "outputs": [
        {
          "output_type": "stream",
          "name": "stdout",
          "text": [
            "    ID     Name   Age  Salary Department\n",
            "0    1  Unknown  30.0  5000.0    Finance\n",
            "1    2    Ricky  40.0  4000.0         HR\n",
            "2    3     Emma   NaN  5000.0  Marketing\n",
            "3    4  Unknown  25.0  3000.0         IT\n",
            "4    5    Steve  40.0  3500.0  Marketing\n",
            "5    6     Emma  30.0  4500.0         IT\n",
            "6    7     Emma   NaN  3000.0         IT\n",
            "7    8  Unknown  40.0  4500.0  Marketing\n",
            "8    9     Jack  25.0     NaN        NaN\n",
            "9   10    Steve  25.0  3500.0         IT\n",
            "10  11  Unknown  35.0  3500.0         IT\n",
            "11  12    Steve  35.0  3000.0  Marketing\n",
            "12  13    Steve  30.0  3500.0         IT\n",
            "13  14     Emma  40.0  5000.0         IT\n",
            "14  15    Ricky  40.0  3500.0  Marketing\n",
            "15  16    Steve  35.0  4500.0  Marketing\n",
            "16  17     Lily  40.0  4500.0         HR\n",
            "17  18     Emma  40.0  4500.0        NaN\n",
            "18  19     Jack  25.0  4500.0        NaN\n",
            "19  20    Ricky  35.0  5000.0         IT\n"
          ]
        }
      ]
    },
    {
      "cell_type": "code",
      "source": [
        "df=pd.read_csv('/large_missing_values.csv')\n",
        "print(df)"
      ],
      "metadata": {
        "colab": {
          "base_uri": "https://localhost:8080/"
        },
        "id": "Z68j6XnpsG09",
        "outputId": "5fa79c11-7b95-4211-8d2c-c5f3cc4ea1f2"
      },
      "execution_count": 37,
      "outputs": [
        {
          "output_type": "stream",
          "name": "stdout",
          "text": [
            "    ID   Name   Age  Salary Department\n",
            "0    1    NaN  30.0  5000.0    Finance\n",
            "1    2  Ricky  40.0  4000.0         HR\n",
            "2    3   Emma   NaN  5000.0  Marketing\n",
            "3    4    NaN  25.0  3000.0         IT\n",
            "4    5  Steve  40.0  3500.0  Marketing\n",
            "5    6   Emma  30.0  4500.0         IT\n",
            "6    7   Emma   NaN  3000.0         IT\n",
            "7    8    NaN  40.0  4500.0  Marketing\n",
            "8    9   Jack  25.0     NaN        NaN\n",
            "9   10  Steve  25.0  3500.0         IT\n",
            "10  11    NaN  35.0  3500.0         IT\n",
            "11  12  Steve  35.0  3000.0  Marketing\n",
            "12  13  Steve  30.0  3500.0         IT\n",
            "13  14   Emma  40.0  5000.0         IT\n",
            "14  15  Ricky  40.0  3500.0  Marketing\n",
            "15  16  Steve  35.0  4500.0  Marketing\n",
            "16  17   Lily  40.0  4500.0         HR\n",
            "17  18   Emma  40.0  4500.0        NaN\n",
            "18  19   Jack  25.0  4500.0        NaN\n",
            "19  20  Ricky  35.0  5000.0         IT\n"
          ]
        }
      ]
    },
    {
      "cell_type": "code",
      "source": [
        "df['Name']=df['Name'].fillna('Unknown')\n",
        "print(df)"
      ],
      "metadata": {
        "colab": {
          "base_uri": "https://localhost:8080/"
        },
        "id": "Kb1ldKQQs9xo",
        "outputId": "1da5033f-b565-4f3e-fb16-c699f31660cd"
      },
      "execution_count": 38,
      "outputs": [
        {
          "output_type": "stream",
          "name": "stdout",
          "text": [
            "    ID     Name   Age  Salary Department\n",
            "0    1  Unknown  30.0  5000.0    Finance\n",
            "1    2    Ricky  40.0  4000.0         HR\n",
            "2    3     Emma   NaN  5000.0  Marketing\n",
            "3    4  Unknown  25.0  3000.0         IT\n",
            "4    5    Steve  40.0  3500.0  Marketing\n",
            "5    6     Emma  30.0  4500.0         IT\n",
            "6    7     Emma   NaN  3000.0         IT\n",
            "7    8  Unknown  40.0  4500.0  Marketing\n",
            "8    9     Jack  25.0     NaN        NaN\n",
            "9   10    Steve  25.0  3500.0         IT\n",
            "10  11  Unknown  35.0  3500.0         IT\n",
            "11  12    Steve  35.0  3000.0  Marketing\n",
            "12  13    Steve  30.0  3500.0         IT\n",
            "13  14     Emma  40.0  5000.0         IT\n",
            "14  15    Ricky  40.0  3500.0  Marketing\n",
            "15  16    Steve  35.0  4500.0  Marketing\n",
            "16  17     Lily  40.0  4500.0         HR\n",
            "17  18     Emma  40.0  4500.0        NaN\n",
            "18  19     Jack  25.0  4500.0        NaN\n",
            "19  20    Ricky  35.0  5000.0         IT\n"
          ]
        }
      ]
    },
    {
      "cell_type": "code",
      "source": [
        "df['mean_Age']= df['Age'].fillna(df['Age'].mean())\n",
        "print(df)"
      ],
      "metadata": {
        "colab": {
          "base_uri": "https://localhost:8080/"
        },
        "id": "_tZo1EMOvvNS",
        "outputId": "fcc3fd9e-ac35-43d0-9307-e1c6bf1f7e22"
      },
      "execution_count": 39,
      "outputs": [
        {
          "output_type": "stream",
          "name": "stdout",
          "text": [
            "    ID     Name   Age  Salary Department   mean_Age\n",
            "0    1  Unknown  30.0  5000.0    Finance  30.000000\n",
            "1    2    Ricky  40.0  4000.0         HR  40.000000\n",
            "2    3     Emma   NaN  5000.0  Marketing  33.888889\n",
            "3    4  Unknown  25.0  3000.0         IT  25.000000\n",
            "4    5    Steve  40.0  3500.0  Marketing  40.000000\n",
            "5    6     Emma  30.0  4500.0         IT  30.000000\n",
            "6    7     Emma   NaN  3000.0         IT  33.888889\n",
            "7    8  Unknown  40.0  4500.0  Marketing  40.000000\n",
            "8    9     Jack  25.0     NaN        NaN  25.000000\n",
            "9   10    Steve  25.0  3500.0         IT  25.000000\n",
            "10  11  Unknown  35.0  3500.0         IT  35.000000\n",
            "11  12    Steve  35.0  3000.0  Marketing  35.000000\n",
            "12  13    Steve  30.0  3500.0         IT  30.000000\n",
            "13  14     Emma  40.0  5000.0         IT  40.000000\n",
            "14  15    Ricky  40.0  3500.0  Marketing  40.000000\n",
            "15  16    Steve  35.0  4500.0  Marketing  35.000000\n",
            "16  17     Lily  40.0  4500.0         HR  40.000000\n",
            "17  18     Emma  40.0  4500.0        NaN  40.000000\n",
            "18  19     Jack  25.0  4500.0        NaN  25.000000\n",
            "19  20    Ricky  35.0  5000.0         IT  35.000000\n"
          ]
        }
      ]
    },
    {
      "cell_type": "code",
      "source": [
        "df['mean_salary']= df['Salary'].fillna(df['Salary'].max())\n",
        "print(df)"
      ],
      "metadata": {
        "colab": {
          "base_uri": "https://localhost:8080/"
        },
        "id": "8yMiUUw53uOS",
        "outputId": "00be97ca-16d5-4a96-aa4a-e1c0a3479945"
      },
      "execution_count": 41,
      "outputs": [
        {
          "output_type": "stream",
          "name": "stdout",
          "text": [
            "    ID     Name   Age  Salary Department   mean_Age  mean_salary\n",
            "0    1  Unknown  30.0  5000.0    Finance  30.000000       5000.0\n",
            "1    2    Ricky  40.0  4000.0         HR  40.000000       4000.0\n",
            "2    3     Emma   NaN  5000.0  Marketing  33.888889       5000.0\n",
            "3    4  Unknown  25.0  3000.0         IT  25.000000       3000.0\n",
            "4    5    Steve  40.0  3500.0  Marketing  40.000000       3500.0\n",
            "5    6     Emma  30.0  4500.0         IT  30.000000       4500.0\n",
            "6    7     Emma   NaN  3000.0         IT  33.888889       3000.0\n",
            "7    8  Unknown  40.0  4500.0  Marketing  40.000000       4500.0\n",
            "8    9     Jack  25.0     NaN        NaN  25.000000       5000.0\n",
            "9   10    Steve  25.0  3500.0         IT  25.000000       3500.0\n",
            "10  11  Unknown  35.0  3500.0         IT  35.000000       3500.0\n",
            "11  12    Steve  35.0  3000.0  Marketing  35.000000       3000.0\n",
            "12  13    Steve  30.0  3500.0         IT  30.000000       3500.0\n",
            "13  14     Emma  40.0  5000.0         IT  40.000000       5000.0\n",
            "14  15    Ricky  40.0  3500.0  Marketing  40.000000       3500.0\n",
            "15  16    Steve  35.0  4500.0  Marketing  35.000000       4500.0\n",
            "16  17     Lily  40.0  4500.0         HR  40.000000       4500.0\n",
            "17  18     Emma  40.0  4500.0        NaN  40.000000       4500.0\n",
            "18  19     Jack  25.0  4500.0        NaN  25.000000       4500.0\n",
            "19  20    Ricky  35.0  5000.0         IT  35.000000       5000.0\n"
          ]
        }
      ]
    },
    {
      "cell_type": "code",
      "source": [
        "df.drop('mean_Age',axis=1)"
      ],
      "metadata": {
        "colab": {
          "base_uri": "https://localhost:8080/",
          "height": 677
        },
        "id": "wcTbExtu58NI",
        "outputId": "93109962-09e1-4c26-d65d-6d0a93d76ff6"
      },
      "execution_count": 42,
      "outputs": [
        {
          "output_type": "execute_result",
          "data": {
            "text/plain": [
              "    ID     Name   Age  Salary Department  mean_salary\n",
              "0    1  Unknown  30.0  5000.0    Finance       5000.0\n",
              "1    2    Ricky  40.0  4000.0         HR       4000.0\n",
              "2    3     Emma   NaN  5000.0  Marketing       5000.0\n",
              "3    4  Unknown  25.0  3000.0         IT       3000.0\n",
              "4    5    Steve  40.0  3500.0  Marketing       3500.0\n",
              "5    6     Emma  30.0  4500.0         IT       4500.0\n",
              "6    7     Emma   NaN  3000.0         IT       3000.0\n",
              "7    8  Unknown  40.0  4500.0  Marketing       4500.0\n",
              "8    9     Jack  25.0     NaN        NaN       5000.0\n",
              "9   10    Steve  25.0  3500.0         IT       3500.0\n",
              "10  11  Unknown  35.0  3500.0         IT       3500.0\n",
              "11  12    Steve  35.0  3000.0  Marketing       3000.0\n",
              "12  13    Steve  30.0  3500.0         IT       3500.0\n",
              "13  14     Emma  40.0  5000.0         IT       5000.0\n",
              "14  15    Ricky  40.0  3500.0  Marketing       3500.0\n",
              "15  16    Steve  35.0  4500.0  Marketing       4500.0\n",
              "16  17     Lily  40.0  4500.0         HR       4500.0\n",
              "17  18     Emma  40.0  4500.0        NaN       4500.0\n",
              "18  19     Jack  25.0  4500.0        NaN       4500.0\n",
              "19  20    Ricky  35.0  5000.0         IT       5000.0"
            ],
            "text/html": [
              "\n",
              "  <div id=\"df-366fa8d7-7679-4a7a-9d1a-5c7c01d2a240\" class=\"colab-df-container\">\n",
              "    <div>\n",
              "<style scoped>\n",
              "    .dataframe tbody tr th:only-of-type {\n",
              "        vertical-align: middle;\n",
              "    }\n",
              "\n",
              "    .dataframe tbody tr th {\n",
              "        vertical-align: top;\n",
              "    }\n",
              "\n",
              "    .dataframe thead th {\n",
              "        text-align: right;\n",
              "    }\n",
              "</style>\n",
              "<table border=\"1\" class=\"dataframe\">\n",
              "  <thead>\n",
              "    <tr style=\"text-align: right;\">\n",
              "      <th></th>\n",
              "      <th>ID</th>\n",
              "      <th>Name</th>\n",
              "      <th>Age</th>\n",
              "      <th>Salary</th>\n",
              "      <th>Department</th>\n",
              "      <th>mean_salary</th>\n",
              "    </tr>\n",
              "  </thead>\n",
              "  <tbody>\n",
              "    <tr>\n",
              "      <th>0</th>\n",
              "      <td>1</td>\n",
              "      <td>Unknown</td>\n",
              "      <td>30.0</td>\n",
              "      <td>5000.0</td>\n",
              "      <td>Finance</td>\n",
              "      <td>5000.0</td>\n",
              "    </tr>\n",
              "    <tr>\n",
              "      <th>1</th>\n",
              "      <td>2</td>\n",
              "      <td>Ricky</td>\n",
              "      <td>40.0</td>\n",
              "      <td>4000.0</td>\n",
              "      <td>HR</td>\n",
              "      <td>4000.0</td>\n",
              "    </tr>\n",
              "    <tr>\n",
              "      <th>2</th>\n",
              "      <td>3</td>\n",
              "      <td>Emma</td>\n",
              "      <td>NaN</td>\n",
              "      <td>5000.0</td>\n",
              "      <td>Marketing</td>\n",
              "      <td>5000.0</td>\n",
              "    </tr>\n",
              "    <tr>\n",
              "      <th>3</th>\n",
              "      <td>4</td>\n",
              "      <td>Unknown</td>\n",
              "      <td>25.0</td>\n",
              "      <td>3000.0</td>\n",
              "      <td>IT</td>\n",
              "      <td>3000.0</td>\n",
              "    </tr>\n",
              "    <tr>\n",
              "      <th>4</th>\n",
              "      <td>5</td>\n",
              "      <td>Steve</td>\n",
              "      <td>40.0</td>\n",
              "      <td>3500.0</td>\n",
              "      <td>Marketing</td>\n",
              "      <td>3500.0</td>\n",
              "    </tr>\n",
              "    <tr>\n",
              "      <th>5</th>\n",
              "      <td>6</td>\n",
              "      <td>Emma</td>\n",
              "      <td>30.0</td>\n",
              "      <td>4500.0</td>\n",
              "      <td>IT</td>\n",
              "      <td>4500.0</td>\n",
              "    </tr>\n",
              "    <tr>\n",
              "      <th>6</th>\n",
              "      <td>7</td>\n",
              "      <td>Emma</td>\n",
              "      <td>NaN</td>\n",
              "      <td>3000.0</td>\n",
              "      <td>IT</td>\n",
              "      <td>3000.0</td>\n",
              "    </tr>\n",
              "    <tr>\n",
              "      <th>7</th>\n",
              "      <td>8</td>\n",
              "      <td>Unknown</td>\n",
              "      <td>40.0</td>\n",
              "      <td>4500.0</td>\n",
              "      <td>Marketing</td>\n",
              "      <td>4500.0</td>\n",
              "    </tr>\n",
              "    <tr>\n",
              "      <th>8</th>\n",
              "      <td>9</td>\n",
              "      <td>Jack</td>\n",
              "      <td>25.0</td>\n",
              "      <td>NaN</td>\n",
              "      <td>NaN</td>\n",
              "      <td>5000.0</td>\n",
              "    </tr>\n",
              "    <tr>\n",
              "      <th>9</th>\n",
              "      <td>10</td>\n",
              "      <td>Steve</td>\n",
              "      <td>25.0</td>\n",
              "      <td>3500.0</td>\n",
              "      <td>IT</td>\n",
              "      <td>3500.0</td>\n",
              "    </tr>\n",
              "    <tr>\n",
              "      <th>10</th>\n",
              "      <td>11</td>\n",
              "      <td>Unknown</td>\n",
              "      <td>35.0</td>\n",
              "      <td>3500.0</td>\n",
              "      <td>IT</td>\n",
              "      <td>3500.0</td>\n",
              "    </tr>\n",
              "    <tr>\n",
              "      <th>11</th>\n",
              "      <td>12</td>\n",
              "      <td>Steve</td>\n",
              "      <td>35.0</td>\n",
              "      <td>3000.0</td>\n",
              "      <td>Marketing</td>\n",
              "      <td>3000.0</td>\n",
              "    </tr>\n",
              "    <tr>\n",
              "      <th>12</th>\n",
              "      <td>13</td>\n",
              "      <td>Steve</td>\n",
              "      <td>30.0</td>\n",
              "      <td>3500.0</td>\n",
              "      <td>IT</td>\n",
              "      <td>3500.0</td>\n",
              "    </tr>\n",
              "    <tr>\n",
              "      <th>13</th>\n",
              "      <td>14</td>\n",
              "      <td>Emma</td>\n",
              "      <td>40.0</td>\n",
              "      <td>5000.0</td>\n",
              "      <td>IT</td>\n",
              "      <td>5000.0</td>\n",
              "    </tr>\n",
              "    <tr>\n",
              "      <th>14</th>\n",
              "      <td>15</td>\n",
              "      <td>Ricky</td>\n",
              "      <td>40.0</td>\n",
              "      <td>3500.0</td>\n",
              "      <td>Marketing</td>\n",
              "      <td>3500.0</td>\n",
              "    </tr>\n",
              "    <tr>\n",
              "      <th>15</th>\n",
              "      <td>16</td>\n",
              "      <td>Steve</td>\n",
              "      <td>35.0</td>\n",
              "      <td>4500.0</td>\n",
              "      <td>Marketing</td>\n",
              "      <td>4500.0</td>\n",
              "    </tr>\n",
              "    <tr>\n",
              "      <th>16</th>\n",
              "      <td>17</td>\n",
              "      <td>Lily</td>\n",
              "      <td>40.0</td>\n",
              "      <td>4500.0</td>\n",
              "      <td>HR</td>\n",
              "      <td>4500.0</td>\n",
              "    </tr>\n",
              "    <tr>\n",
              "      <th>17</th>\n",
              "      <td>18</td>\n",
              "      <td>Emma</td>\n",
              "      <td>40.0</td>\n",
              "      <td>4500.0</td>\n",
              "      <td>NaN</td>\n",
              "      <td>4500.0</td>\n",
              "    </tr>\n",
              "    <tr>\n",
              "      <th>18</th>\n",
              "      <td>19</td>\n",
              "      <td>Jack</td>\n",
              "      <td>25.0</td>\n",
              "      <td>4500.0</td>\n",
              "      <td>NaN</td>\n",
              "      <td>4500.0</td>\n",
              "    </tr>\n",
              "    <tr>\n",
              "      <th>19</th>\n",
              "      <td>20</td>\n",
              "      <td>Ricky</td>\n",
              "      <td>35.0</td>\n",
              "      <td>5000.0</td>\n",
              "      <td>IT</td>\n",
              "      <td>5000.0</td>\n",
              "    </tr>\n",
              "  </tbody>\n",
              "</table>\n",
              "</div>\n",
              "    <div class=\"colab-df-buttons\">\n",
              "\n",
              "  <div class=\"colab-df-container\">\n",
              "    <button class=\"colab-df-convert\" onclick=\"convertToInteractive('df-366fa8d7-7679-4a7a-9d1a-5c7c01d2a240')\"\n",
              "            title=\"Convert this dataframe to an interactive table.\"\n",
              "            style=\"display:none;\">\n",
              "\n",
              "  <svg xmlns=\"http://www.w3.org/2000/svg\" height=\"24px\" viewBox=\"0 -960 960 960\">\n",
              "    <path d=\"M120-120v-720h720v720H120Zm60-500h600v-160H180v160Zm220 220h160v-160H400v160Zm0 220h160v-160H400v160ZM180-400h160v-160H180v160Zm440 0h160v-160H620v160ZM180-180h160v-160H180v160Zm440 0h160v-160H620v160Z\"/>\n",
              "  </svg>\n",
              "    </button>\n",
              "\n",
              "  <style>\n",
              "    .colab-df-container {\n",
              "      display:flex;\n",
              "      gap: 12px;\n",
              "    }\n",
              "\n",
              "    .colab-df-convert {\n",
              "      background-color: #E8F0FE;\n",
              "      border: none;\n",
              "      border-radius: 50%;\n",
              "      cursor: pointer;\n",
              "      display: none;\n",
              "      fill: #1967D2;\n",
              "      height: 32px;\n",
              "      padding: 0 0 0 0;\n",
              "      width: 32px;\n",
              "    }\n",
              "\n",
              "    .colab-df-convert:hover {\n",
              "      background-color: #E2EBFA;\n",
              "      box-shadow: 0px 1px 2px rgba(60, 64, 67, 0.3), 0px 1px 3px 1px rgba(60, 64, 67, 0.15);\n",
              "      fill: #174EA6;\n",
              "    }\n",
              "\n",
              "    .colab-df-buttons div {\n",
              "      margin-bottom: 4px;\n",
              "    }\n",
              "\n",
              "    [theme=dark] .colab-df-convert {\n",
              "      background-color: #3B4455;\n",
              "      fill: #D2E3FC;\n",
              "    }\n",
              "\n",
              "    [theme=dark] .colab-df-convert:hover {\n",
              "      background-color: #434B5C;\n",
              "      box-shadow: 0px 1px 3px 1px rgba(0, 0, 0, 0.15);\n",
              "      filter: drop-shadow(0px 1px 2px rgba(0, 0, 0, 0.3));\n",
              "      fill: #FFFFFF;\n",
              "    }\n",
              "  </style>\n",
              "\n",
              "    <script>\n",
              "      const buttonEl =\n",
              "        document.querySelector('#df-366fa8d7-7679-4a7a-9d1a-5c7c01d2a240 button.colab-df-convert');\n",
              "      buttonEl.style.display =\n",
              "        google.colab.kernel.accessAllowed ? 'block' : 'none';\n",
              "\n",
              "      async function convertToInteractive(key) {\n",
              "        const element = document.querySelector('#df-366fa8d7-7679-4a7a-9d1a-5c7c01d2a240');\n",
              "        const dataTable =\n",
              "          await google.colab.kernel.invokeFunction('convertToInteractive',\n",
              "                                                    [key], {});\n",
              "        if (!dataTable) return;\n",
              "\n",
              "        const docLinkHtml = 'Like what you see? Visit the ' +\n",
              "          '<a target=\"_blank\" href=https://colab.research.google.com/notebooks/data_table.ipynb>data table notebook</a>'\n",
              "          + ' to learn more about interactive tables.';\n",
              "        element.innerHTML = '';\n",
              "        dataTable['output_type'] = 'display_data';\n",
              "        await google.colab.output.renderOutput(dataTable, element);\n",
              "        const docLink = document.createElement('div');\n",
              "        docLink.innerHTML = docLinkHtml;\n",
              "        element.appendChild(docLink);\n",
              "      }\n",
              "    </script>\n",
              "  </div>\n",
              "\n",
              "\n",
              "    <div id=\"df-b0328d05-905a-4a69-9022-8149508acdde\">\n",
              "      <button class=\"colab-df-quickchart\" onclick=\"quickchart('df-b0328d05-905a-4a69-9022-8149508acdde')\"\n",
              "                title=\"Suggest charts\"\n",
              "                style=\"display:none;\">\n",
              "\n",
              "<svg xmlns=\"http://www.w3.org/2000/svg\" height=\"24px\"viewBox=\"0 0 24 24\"\n",
              "     width=\"24px\">\n",
              "    <g>\n",
              "        <path d=\"M19 3H5c-1.1 0-2 .9-2 2v14c0 1.1.9 2 2 2h14c1.1 0 2-.9 2-2V5c0-1.1-.9-2-2-2zM9 17H7v-7h2v7zm4 0h-2V7h2v10zm4 0h-2v-4h2v4z\"/>\n",
              "    </g>\n",
              "</svg>\n",
              "      </button>\n",
              "\n",
              "<style>\n",
              "  .colab-df-quickchart {\n",
              "      --bg-color: #E8F0FE;\n",
              "      --fill-color: #1967D2;\n",
              "      --hover-bg-color: #E2EBFA;\n",
              "      --hover-fill-color: #174EA6;\n",
              "      --disabled-fill-color: #AAA;\n",
              "      --disabled-bg-color: #DDD;\n",
              "  }\n",
              "\n",
              "  [theme=dark] .colab-df-quickchart {\n",
              "      --bg-color: #3B4455;\n",
              "      --fill-color: #D2E3FC;\n",
              "      --hover-bg-color: #434B5C;\n",
              "      --hover-fill-color: #FFFFFF;\n",
              "      --disabled-bg-color: #3B4455;\n",
              "      --disabled-fill-color: #666;\n",
              "  }\n",
              "\n",
              "  .colab-df-quickchart {\n",
              "    background-color: var(--bg-color);\n",
              "    border: none;\n",
              "    border-radius: 50%;\n",
              "    cursor: pointer;\n",
              "    display: none;\n",
              "    fill: var(--fill-color);\n",
              "    height: 32px;\n",
              "    padding: 0;\n",
              "    width: 32px;\n",
              "  }\n",
              "\n",
              "  .colab-df-quickchart:hover {\n",
              "    background-color: var(--hover-bg-color);\n",
              "    box-shadow: 0 1px 2px rgba(60, 64, 67, 0.3), 0 1px 3px 1px rgba(60, 64, 67, 0.15);\n",
              "    fill: var(--button-hover-fill-color);\n",
              "  }\n",
              "\n",
              "  .colab-df-quickchart-complete:disabled,\n",
              "  .colab-df-quickchart-complete:disabled:hover {\n",
              "    background-color: var(--disabled-bg-color);\n",
              "    fill: var(--disabled-fill-color);\n",
              "    box-shadow: none;\n",
              "  }\n",
              "\n",
              "  .colab-df-spinner {\n",
              "    border: 2px solid var(--fill-color);\n",
              "    border-color: transparent;\n",
              "    border-bottom-color: var(--fill-color);\n",
              "    animation:\n",
              "      spin 1s steps(1) infinite;\n",
              "  }\n",
              "\n",
              "  @keyframes spin {\n",
              "    0% {\n",
              "      border-color: transparent;\n",
              "      border-bottom-color: var(--fill-color);\n",
              "      border-left-color: var(--fill-color);\n",
              "    }\n",
              "    20% {\n",
              "      border-color: transparent;\n",
              "      border-left-color: var(--fill-color);\n",
              "      border-top-color: var(--fill-color);\n",
              "    }\n",
              "    30% {\n",
              "      border-color: transparent;\n",
              "      border-left-color: var(--fill-color);\n",
              "      border-top-color: var(--fill-color);\n",
              "      border-right-color: var(--fill-color);\n",
              "    }\n",
              "    40% {\n",
              "      border-color: transparent;\n",
              "      border-right-color: var(--fill-color);\n",
              "      border-top-color: var(--fill-color);\n",
              "    }\n",
              "    60% {\n",
              "      border-color: transparent;\n",
              "      border-right-color: var(--fill-color);\n",
              "    }\n",
              "    80% {\n",
              "      border-color: transparent;\n",
              "      border-right-color: var(--fill-color);\n",
              "      border-bottom-color: var(--fill-color);\n",
              "    }\n",
              "    90% {\n",
              "      border-color: transparent;\n",
              "      border-bottom-color: var(--fill-color);\n",
              "    }\n",
              "  }\n",
              "</style>\n",
              "\n",
              "      <script>\n",
              "        async function quickchart(key) {\n",
              "          const quickchartButtonEl =\n",
              "            document.querySelector('#' + key + ' button');\n",
              "          quickchartButtonEl.disabled = true;  // To prevent multiple clicks.\n",
              "          quickchartButtonEl.classList.add('colab-df-spinner');\n",
              "          try {\n",
              "            const charts = await google.colab.kernel.invokeFunction(\n",
              "                'suggestCharts', [key], {});\n",
              "          } catch (error) {\n",
              "            console.error('Error during call to suggestCharts:', error);\n",
              "          }\n",
              "          quickchartButtonEl.classList.remove('colab-df-spinner');\n",
              "          quickchartButtonEl.classList.add('colab-df-quickchart-complete');\n",
              "        }\n",
              "        (() => {\n",
              "          let quickchartButtonEl =\n",
              "            document.querySelector('#df-b0328d05-905a-4a69-9022-8149508acdde button');\n",
              "          quickchartButtonEl.style.display =\n",
              "            google.colab.kernel.accessAllowed ? 'block' : 'none';\n",
              "        })();\n",
              "      </script>\n",
              "    </div>\n",
              "\n",
              "    </div>\n",
              "  </div>\n"
            ],
            "application/vnd.google.colaboratory.intrinsic+json": {
              "type": "dataframe",
              "summary": "{\n  \"name\": \"df\",\n  \"rows\": 20,\n  \"fields\": [\n    {\n      \"column\": \"ID\",\n      \"properties\": {\n        \"dtype\": \"number\",\n        \"std\": 5,\n        \"min\": 1,\n        \"max\": 20,\n        \"num_unique_values\": 20,\n        \"samples\": [\n          1,\n          18,\n          16\n        ],\n        \"semantic_type\": \"\",\n        \"description\": \"\"\n      }\n    },\n    {\n      \"column\": \"Name\",\n      \"properties\": {\n        \"dtype\": \"category\",\n        \"num_unique_values\": 6,\n        \"samples\": [\n          \"Unknown\",\n          \"Ricky\",\n          \"Lily\"\n        ],\n        \"semantic_type\": \"\",\n        \"description\": \"\"\n      }\n    },\n    {\n      \"column\": \"Age\",\n      \"properties\": {\n        \"dtype\": \"number\",\n        \"std\": 6.076849889141856,\n        \"min\": 25.0,\n        \"max\": 40.0,\n        \"num_unique_values\": 4,\n        \"samples\": [\n          40.0,\n          35.0,\n          30.0\n        ],\n        \"semantic_type\": \"\",\n        \"description\": \"\"\n      }\n    },\n    {\n      \"column\": \"Salary\",\n      \"properties\": {\n        \"dtype\": \"number\",\n        \"std\": 731.4969031364697,\n        \"min\": 3000.0,\n        \"max\": 5000.0,\n        \"num_unique_values\": 5,\n        \"samples\": [\n          4000.0,\n          4500.0,\n          3000.0\n        ],\n        \"semantic_type\": \"\",\n        \"description\": \"\"\n      }\n    },\n    {\n      \"column\": \"Department\",\n      \"properties\": {\n        \"dtype\": \"category\",\n        \"num_unique_values\": 4,\n        \"samples\": [\n          \"HR\",\n          \"IT\",\n          \"Finance\"\n        ],\n        \"semantic_type\": \"\",\n        \"description\": \"\"\n      }\n    },\n    {\n      \"column\": \"mean_salary\",\n      \"properties\": {\n        \"dtype\": \"number\",\n        \"std\": 741.1761634477716,\n        \"min\": 3000.0,\n        \"max\": 5000.0,\n        \"num_unique_values\": 5,\n        \"samples\": [\n          4000.0,\n          4500.0,\n          3000.0\n        ],\n        \"semantic_type\": \"\",\n        \"description\": \"\"\n      }\n    }\n  ]\n}"
            }
          },
          "metadata": {},
          "execution_count": 42
        }
      ]
    },
    {
      "cell_type": "code",
      "source": [
        "# Group by Department and find average salary\n",
        "result = df.groupby('Department')['Salary'].mean()\n",
        "print(result)\n"
      ],
      "metadata": {
        "colab": {
          "base_uri": "https://localhost:8080/"
        },
        "id": "MoItkXjWEl_n",
        "outputId": "0e15d46e-ccf2-4fd0-d925-16295bba0ba7"
      },
      "execution_count": 46,
      "outputs": [
        {
          "output_type": "stream",
          "name": "stdout",
          "text": [
            "Department\n",
            "Finance      5000.0\n",
            "HR           4250.0\n",
            "IT           3875.0\n",
            "Marketing    4000.0\n",
            "Name: Salary, dtype: float64\n"
          ]
        }
      ]
    },
    {
      "cell_type": "code",
      "source": [
        "result=df.groupby('Department')['Salary'].agg(['mean', 'sum', 'count'])\n",
        "print(result)\n"
      ],
      "metadata": {
        "colab": {
          "base_uri": "https://localhost:8080/"
        },
        "id": "5NW0FKhGFfrg",
        "outputId": "cfae19e8-d8ed-409f-fe17-256595c8d747"
      },
      "execution_count": 47,
      "outputs": [
        {
          "output_type": "stream",
          "name": "stdout",
          "text": [
            "              mean      sum  count\n",
            "Department                        \n",
            "Finance     5000.0   5000.0      1\n",
            "HR          4250.0   8500.0      2\n",
            "IT          3875.0  31000.0      8\n",
            "Marketing   4000.0  24000.0      6\n"
          ]
        }
      ]
    }
  ]
}