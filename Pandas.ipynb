{
  "nbformat": 4,
  "nbformat_minor": 0,
  "metadata": {
    "colab": {
      "provenance": [],
      "authorship_tag": "ABX9TyMqDINGvvrm0RZZdY/CyLXM",
      "include_colab_link": true
    },
    "kernelspec": {
      "name": "python3",
      "display_name": "Python 3"
    },
    "language_info": {
      "name": "python"
    }
  },
  "cells": [
    {
      "cell_type": "markdown",
      "metadata": {
        "id": "view-in-github",
        "colab_type": "text"
      },
      "source": [
        "<a href=\"https://colab.research.google.com/github/KirtiRanjan26/Pandas-Tutorial/blob/main/Pandas.ipynb\" target=\"_parent\"><img src=\"https://colab.research.google.com/assets/colab-badge.svg\" alt=\"Open In Colab\"/></a>"
      ]
    },
    {
      "cell_type": "markdown",
      "source": [
        "## Why use Pandas?\n",
        "Handles large datasets easily compared to Excel.\n",
        "\n",
        "Convenient syntax for filtering, grouping, and transforming data.\n",
        "\n",
        "Works well with CSV, Excel, SQL databases, JSON, and more.\n",
        "\n",
        "Built on top of NumPy, so it’s fast and integrates with other data science libraries.\n",
        "\n"
      ],
      "metadata": {
        "id": "TJm-gWH-FfV0"
      }
    },
    {
      "cell_type": "code",
      "source": [
        "import pandas as pd"
      ],
      "metadata": {
        "id": "Y87RXe2qFwDA"
      },
      "execution_count": 4,
      "outputs": []
    },
    {
      "cell_type": "code",
      "execution_count": 2,
      "metadata": {
        "colab": {
          "base_uri": "https://localhost:8080/"
        },
        "id": "JP--qKEgE4fw",
        "outputId": "96a712e4-45ef-47b4-8115-71ba95aaa7a8"
      },
      "outputs": [
        {
          "output_type": "stream",
          "name": "stdout",
          "text": [
            "a    10\n",
            "b    20\n",
            "c    30\n",
            "dtype: int64\n"
          ]
        }
      ],
      "source": [
        "# series :-1D labeled array (like a single Excel column).\n",
        "s = pd.Series([10, 20, 30], index=['a', 'b', 'c'])\n",
        "print(s)\n"
      ]
    },
    {
      "cell_type": "markdown",
      "source": [
        "### Dataframe"
      ],
      "metadata": {
        "id": "yp8uAjp4Kvht"
      }
    },
    {
      "cell_type": "code",
      "source": [
        "# create empty dataframe\n",
        "import pandas as pd\n",
        "df = pd.DataFrame()\n",
        "print(df)\n",
        "# create dataframe from list\n",
        "data = [1,2,3,4,5]\n",
        "df = pd.DataFrame(data)\n",
        "print(df)\n",
        "data = [['Alex',10],['Bob',12],['Clarke',13]]\n",
        "df = pd.DataFrame(data,columns=['Name','Age'])\n",
        "print(df)\n"
      ],
      "metadata": {
        "colab": {
          "base_uri": "https://localhost:8080/"
        },
        "id": "ltqLudQ1G0pG",
        "outputId": "8b646f97-79a5-417e-a84e-67e19b058c71"
      },
      "execution_count": 8,
      "outputs": [
        {
          "output_type": "stream",
          "name": "stdout",
          "text": [
            "Empty DataFrame\n",
            "Columns: []\n",
            "Index: []\n",
            "   0\n",
            "0  1\n",
            "1  2\n",
            "2  3\n",
            "3  4\n",
            "4  5\n",
            "     Name  Age\n",
            "0    Alex   10\n",
            "1     Bob   12\n",
            "2  Clarke   13\n"
          ]
        }
      ]
    },
    {
      "cell_type": "code",
      "source": [
        "# create a dataframe from Dictionary\n",
        "data = {'Name':['Tom', 'Jack', 'Steve', 'Ricky'],'Age':[28,34,29,42]}\n",
        "df = pd.DataFrame(data)\n",
        "print(df)\n",
        "# remove default index\n",
        "print(df.to_string(index= False))\n",
        "#\n"
      ],
      "metadata": {
        "colab": {
          "base_uri": "https://localhost:8080/"
        },
        "id": "NSQLNLTlH4tn",
        "outputId": "9afa1906-c166-46d9-d2d7-200285663bf0"
      },
      "execution_count": 15,
      "outputs": [
        {
          "output_type": "stream",
          "name": "stdout",
          "text": [
            "    Name  Age\n",
            "0    Tom   28\n",
            "1   Jack   34\n",
            "2  Steve   29\n",
            "3  Ricky   42\n",
            " Name  Age\n",
            "  Tom   28\n",
            " Jack   34\n",
            "Steve   29\n",
            "Ricky   42\n"
          ]
        }
      ]
    },
    {
      "cell_type": "code",
      "source": [
        "# dataframe from series\n",
        "import pandas as pd\n",
        "\n",
        "data = {'one' : pd.Series([1, 2, 3], index=['a', 'b', 'c']),\n",
        "   'two' : pd.Series([1, 2, 3, 4], index=['a', 'b', 'c', 'd'])}\n",
        "\n",
        "df = pd.DataFrame(data)\n",
        "print(df)"
      ],
      "metadata": {
        "colab": {
          "base_uri": "https://localhost:8080/"
        },
        "id": "EYKMXoTFSQFE",
        "outputId": "1887d07b-ee63-458e-a1aa-56b7d8471559"
      },
      "execution_count": 16,
      "outputs": [
        {
          "output_type": "stream",
          "name": "stdout",
          "text": [
            "   one  two\n",
            "a  1.0    1\n",
            "b  2.0    2\n",
            "c  3.0    3\n",
            "d  NaN    4\n"
          ]
        }
      ]
    },
    {
      "cell_type": "code",
      "source": [
        "# read csv file\n",
        "df=pd.read_csv('/content/sample_data/california_housing_test.csv')\n",
        "print(df)"
      ],
      "metadata": {
        "colab": {
          "base_uri": "https://localhost:8080/"
        },
        "id": "oboKJvyCS5JL",
        "outputId": "76f1a6c1-67e3-4aa1-b500-eeb6d388bb07"
      },
      "execution_count": 20,
      "outputs": [
        {
          "output_type": "stream",
          "name": "stdout",
          "text": [
            "      longitude  latitude  housing_median_age  total_rooms  total_bedrooms  \\\n",
            "0       -122.05     37.37                27.0       3885.0           661.0   \n",
            "1       -118.30     34.26                43.0       1510.0           310.0   \n",
            "2       -117.81     33.78                27.0       3589.0           507.0   \n",
            "3       -118.36     33.82                28.0         67.0            15.0   \n",
            "4       -119.67     36.33                19.0       1241.0           244.0   \n",
            "...         ...       ...                 ...          ...             ...   \n",
            "2995    -119.86     34.42                23.0       1450.0           642.0   \n",
            "2996    -118.14     34.06                27.0       5257.0          1082.0   \n",
            "2997    -119.70     36.30                10.0        956.0           201.0   \n",
            "2998    -117.12     34.10                40.0         96.0            14.0   \n",
            "2999    -119.63     34.42                42.0       1765.0           263.0   \n",
            "\n",
            "      population  households  median_income  median_house_value  \n",
            "0         1537.0       606.0         6.6085            344700.0  \n",
            "1          809.0       277.0         3.5990            176500.0  \n",
            "2         1484.0       495.0         5.7934            270500.0  \n",
            "3           49.0        11.0         6.1359            330000.0  \n",
            "4          850.0       237.0         2.9375             81700.0  \n",
            "...          ...         ...            ...                 ...  \n",
            "2995      1258.0       607.0         1.1790            225000.0  \n",
            "2996      3496.0      1036.0         3.3906            237200.0  \n",
            "2997       693.0       220.0         2.2895             62000.0  \n",
            "2998        46.0        14.0         3.2708            162500.0  \n",
            "2999       753.0       260.0         8.5608            500001.0  \n",
            "\n",
            "[3000 rows x 9 columns]\n"
          ]
        }
      ]
    },
    {
      "cell_type": "code",
      "source": [
        "# save data as csv file\n",
        "data = {'Name':['Tom', 'Jack', 'Steve', 'Ricky'],'Age':[28,34,29,42]}\n",
        "df=pd.DataFrame(data)\n",
        "print(df.to_csv('new.csv',index=False))\n",
        "df=pd.read_csv('/content/new.csv')\n",
        "print(df)\n"
      ],
      "metadata": {
        "colab": {
          "base_uri": "https://localhost:8080/"
        },
        "id": "GhVan3CST7rR",
        "outputId": "0fa0e3b7-cd32-4485-8b8f-aef208d7fea6"
      },
      "execution_count": 22,
      "outputs": [
        {
          "output_type": "stream",
          "name": "stdout",
          "text": [
            "None\n",
            "    Name  Age\n",
            "0    Tom   28\n",
            "1   Jack   34\n",
            "2  Steve   29\n",
            "3  Ricky   42\n"
          ]
        }
      ]
    },
    {
      "cell_type": "markdown",
      "source": [
        "### Accessing the DataFrame"
      ],
      "metadata": {
        "id": "H2iBAoBbSp6v"
      }
    },
    {
      "cell_type": "code",
      "source": [
        "import pandas as pd\n",
        "\n",
        "# Create a DataFrame\n",
        "data={\n",
        "    'Name': ['Steve', 'Lia', 'Vin', 'Katie'],\n",
        "    'Age': [32, 28, 45, 38],\n",
        "    'Gender': ['Male', 'Female', 'Male', 'Female'],\n",
        "    'Rating': [3.45, 4.6, 3.9, 2.78]}\n",
        "df=pd.DataFrame(data,index=['r1','r2','r3','r4'])\n",
        "print(df)\n",
        "\n",
        "# Access the rows of the DataFrame\n",
        "result = df.index\n",
        "print('Output Accessed Row Labels:', result)\n",
        "df.index = [100, 200, 300, 400]\n",
        "print('Output Modified DataFrame with the updated index labels:\\n', df)"
      ],
      "metadata": {
        "colab": {
          "base_uri": "https://localhost:8080/"
        },
        "id": "glLs_OCFSsAy",
        "outputId": "bca07c31-2aba-4644-9df8-16f9dafd6355"
      },
      "execution_count": 2,
      "outputs": [
        {
          "output_type": "stream",
          "name": "stdout",
          "text": [
            "     Name  Age  Gender  Rating\n",
            "r1  Steve   32    Male    3.45\n",
            "r2    Lia   28  Female    4.60\n",
            "r3    Vin   45    Male    3.90\n",
            "r4  Katie   38  Female    2.78\n",
            "Output Accessed Row Labels: Index(['r1', 'r2', 'r3', 'r4'], dtype='object')\n",
            "Output Modified DataFrame with the updated index labels:\n",
            "       Name  Age  Gender  Rating\n",
            "100  Steve   32    Male    3.45\n",
            "200    Lia   28  Female    4.60\n",
            "300    Vin   45    Male    3.90\n",
            "400  Katie   38  Female    2.78\n"
          ]
        }
      ]
    },
    {
      "cell_type": "code",
      "source": [
        "print(df['Name']) # simple way to access single column\n"
      ],
      "metadata": {
        "colab": {
          "base_uri": "https://localhost:8080/"
        },
        "id": "RGX_PX05d188",
        "outputId": "cbc3651d-8b74-4de9-8cf6-d8af22f5e30b"
      },
      "execution_count": 6,
      "outputs": [
        {
          "output_type": "stream",
          "name": "stdout",
          "text": [
            "100    Steve\n",
            "200      Lia\n",
            "300      Vin\n",
            "400    Katie\n",
            "Name: Name, dtype: object\n"
          ]
        }
      ]
    },
    {
      "cell_type": "code",
      "source": [
        "# Use loc if you know the labels.\n",
        "df\n",
        "#df.loc[['index or label name'],['column name']]\n",
        "print(\"print single value:\\n\",df.loc[200,'Name'])   # Single value → 50\n",
        "print(\"print multivalue serialwise\\n\",df.loc[100:300, 'Name'])    # Slice by labels\n",
        "print(\"print multiplevalue in any position\\n\",df.loc[[100, 400], ['Rating','Name']])  # Multiple rows & columns\n",
        "print(\"print easy syntex for single or multiple value\\n\",df.loc[[200],['Name']])\n"
      ],
      "metadata": {
        "colab": {
          "base_uri": "https://localhost:8080/"
        },
        "id": "0_qM9U9wf79z",
        "outputId": "6ccadb2c-d896-40e0-ad10-cd787401f03a"
      },
      "execution_count": 16,
      "outputs": [
        {
          "output_type": "stream",
          "name": "stdout",
          "text": [
            "print single value:\n",
            " Lia\n",
            "print multivalue serialwise\n",
            " 100    Steve\n",
            "200      Lia\n",
            "300      Vin\n",
            "Name: Name, dtype: object\n",
            "print multiplevalue in any position\n",
            "      Rating   Name\n",
            "100    3.45  Steve\n",
            "400    2.78  Katie\n",
            "print easy syntex for single or multiple value\n",
            "     Name\n",
            "200  Lia\n"
          ]
        }
      ]
    },
    {
      "cell_type": "code",
      "source": [
        "# Use iloc if you know the integer positions.\n",
        "print(df.iloc[[0,3],[0,2,3]])\n",
        "print(df.iloc[0:3,1]) # serial wise row and single column\n",
        "print(df.iloc[0:3,[0,3]]) #serial wise row and single column\n",
        "print(df.iloc[0:3,0:2]) # serial wise row and column\n"
      ],
      "metadata": {
        "colab": {
          "base_uri": "https://localhost:8080/"
        },
        "id": "a4bnWMiolYZn",
        "outputId": "5cb62710-6265-47b9-c57b-4e5d22b4da17"
      },
      "execution_count": 17,
      "outputs": [
        {
          "output_type": "stream",
          "name": "stdout",
          "text": [
            "      Name  Gender  Rating\n",
            "100  Steve    Male    3.45\n",
            "400  Katie  Female    2.78\n",
            "100    32\n",
            "200    28\n",
            "300    45\n",
            "Name: Age, dtype: int64\n",
            "      Name  Rating\n",
            "100  Steve    3.45\n",
            "200    Lia    4.60\n",
            "300    Vin    3.90\n",
            "      Name  Age\n",
            "100  Steve   32\n",
            "200    Lia   28\n",
            "300    Vin   45\n"
          ]
        }
      ]
    },
    {
      "cell_type": "code",
      "source": [
        "# Use at for one value by label (fast).\n",
        "print(df.at[300, 'Name'])\n",
        "\n",
        "# Use iat for one value by position (fast).\n",
        "print(df.iat[1, 1])\n",
        "\n"
      ],
      "metadata": {
        "colab": {
          "base_uri": "https://localhost:8080/"
        },
        "id": "mhdM2fELgB5M",
        "outputId": "f94f3fef-66c1-4929-8427-1368202ec56c"
      },
      "execution_count": 19,
      "outputs": [
        {
          "output_type": "stream",
          "name": "stdout",
          "text": [
            "Vin\n",
            "28\n"
          ]
        }
      ]
    },
    {
      "cell_type": "code",
      "source": [
        "\n",
        "import pandas as pd\n",
        "\n",
        "# Create a DataFrame\n",
        "data={\n",
        "    'Name': ['Steve', 'Lia', 'Vin', 'Katie'],\n",
        "    'Age': [32, 28, 45, 38],\n",
        "    'Gender': ['Male', 'Female', 'Male', 'Female'],\n",
        "    'Rating': [3.45, 4.6, 3.9, 2.78]}\n",
        "df=pd.DataFrame(data,index=['r1','r2','r3','r4'])\n",
        "print(df);\n",
        "print(df.info())\n",
        "# adding new row and new column"
      ],
      "metadata": {
        "colab": {
          "base_uri": "https://localhost:8080/"
        },
        "id": "WRpN8ggDzckB",
        "outputId": "0e317e58-c09e-4603-c31f-2a2eef23a683"
      },
      "execution_count": 26,
      "outputs": [
        {
          "output_type": "stream",
          "name": "stdout",
          "text": [
            "     Name  Age  Gender  Rating\n",
            "r1  Steve   32    Male    3.45\n",
            "r2    Lia   28  Female    4.60\n",
            "r3    Vin   45    Male    3.90\n",
            "r4  Katie   38  Female    2.78\n",
            "<class 'pandas.core.frame.DataFrame'>\n",
            "Index: 4 entries, r1 to r4\n",
            "Data columns (total 4 columns):\n",
            " #   Column  Non-Null Count  Dtype  \n",
            "---  ------  --------------  -----  \n",
            " 0   Name    4 non-null      object \n",
            " 1   Age     4 non-null      int64  \n",
            " 2   Gender  4 non-null      object \n",
            " 3   Rating  4 non-null      float64\n",
            "dtypes: float64(1), int64(1), object(2)\n",
            "memory usage: 160.0+ bytes\n",
            "None\n"
          ]
        }
      ]
    },
    {
      "cell_type": "code",
      "source": [
        "df=pd.read_csv('/content/sample_data/california_housing_test.csv')\n",
        "print(df.head())\n",
        "print(df.tail())"
      ],
      "metadata": {
        "colab": {
          "base_uri": "https://localhost:8080/"
        },
        "id": "3Hg5zICQgB3Y",
        "outputId": "c613b0cf-e58a-4ac3-b6cd-495570fa9a51"
      },
      "execution_count": 22,
      "outputs": [
        {
          "output_type": "stream",
          "name": "stdout",
          "text": [
            "   longitude  latitude  housing_median_age  total_rooms  total_bedrooms  \\\n",
            "0    -122.05     37.37                27.0       3885.0           661.0   \n",
            "1    -118.30     34.26                43.0       1510.0           310.0   \n",
            "2    -117.81     33.78                27.0       3589.0           507.0   \n",
            "3    -118.36     33.82                28.0         67.0            15.0   \n",
            "4    -119.67     36.33                19.0       1241.0           244.0   \n",
            "\n",
            "   population  households  median_income  median_house_value  \n",
            "0      1537.0       606.0         6.6085            344700.0  \n",
            "1       809.0       277.0         3.5990            176500.0  \n",
            "2      1484.0       495.0         5.7934            270500.0  \n",
            "3        49.0        11.0         6.1359            330000.0  \n",
            "4       850.0       237.0         2.9375             81700.0  \n",
            "      longitude  latitude  housing_median_age  total_rooms  total_bedrooms  \\\n",
            "2995    -119.86     34.42                23.0       1450.0           642.0   \n",
            "2996    -118.14     34.06                27.0       5257.0          1082.0   \n",
            "2997    -119.70     36.30                10.0        956.0           201.0   \n",
            "2998    -117.12     34.10                40.0         96.0            14.0   \n",
            "2999    -119.63     34.42                42.0       1765.0           263.0   \n",
            "\n",
            "      population  households  median_income  median_house_value  \n",
            "2995      1258.0       607.0         1.1790            225000.0  \n",
            "2996      3496.0      1036.0         3.3906            237200.0  \n",
            "2997       693.0       220.0         2.2895             62000.0  \n",
            "2998        46.0        14.0         3.2708            162500.0  \n",
            "2999       753.0       260.0         8.5608            500001.0  \n"
          ]
        }
      ]
    },
    {
      "cell_type": "code",
      "source": [
        "print(df.isna().sum().sum())\n"
      ],
      "metadata": {
        "colab": {
          "base_uri": "https://localhost:8080/"
        },
        "id": "QZzMmXQpgBzn",
        "outputId": "7feb326b-429d-4014-d05b-ff21e8e5919e"
      },
      "execution_count": 25,
      "outputs": [
        {
          "output_type": "stream",
          "name": "stdout",
          "text": [
            "0\n"
          ]
        }
      ]
    },
    {
      "cell_type": "code",
      "source": [
        "df=pd.read_csv('/large_missing_values.csv')\n",
        "print(df)\n"
      ],
      "metadata": {
        "colab": {
          "base_uri": "https://localhost:8080/"
        },
        "id": "c3qSpXV_NpIw",
        "outputId": "b8bb9abb-9d8d-4485-8cd9-5d27a5c17635"
      },
      "execution_count": 6,
      "outputs": [
        {
          "output_type": "stream",
          "name": "stdout",
          "text": [
            "    ID   Name   Age  Salary Department\n",
            "0    1    NaN  30.0  5000.0    Finance\n",
            "1    2  Ricky  40.0  4000.0         HR\n",
            "2    3   Emma   NaN  5000.0  Marketing\n",
            "3    4    NaN  25.0  3000.0         IT\n",
            "4    5  Steve  40.0  3500.0  Marketing\n",
            "5    6   Emma  30.0  4500.0         IT\n",
            "6    7   Emma   NaN  3000.0         IT\n",
            "7    8    NaN  40.0  4500.0  Marketing\n",
            "8    9   Jack  25.0     NaN        NaN\n",
            "9   10  Steve  25.0  3500.0         IT\n",
            "10  11    NaN  35.0  3500.0         IT\n",
            "11  12  Steve  35.0  3000.0  Marketing\n",
            "12  13  Steve  30.0  3500.0         IT\n",
            "13  14   Emma  40.0  5000.0         IT\n",
            "14  15  Ricky  40.0  3500.0  Marketing\n",
            "15  16  Steve  35.0  4500.0  Marketing\n",
            "16  17   Lily  40.0  4500.0         HR\n",
            "17  18   Emma  40.0  4500.0        NaN\n",
            "18  19   Jack  25.0  4500.0        NaN\n",
            "19  20  Ricky  35.0  5000.0         IT\n"
          ]
        }
      ]
    },
    {
      "cell_type": "code",
      "source": [
        "print(df.describe())# statistical summary"
      ],
      "metadata": {
        "colab": {
          "base_uri": "https://localhost:8080/"
        },
        "id": "NTwjTk9XOOoU",
        "outputId": "7df1c970-a964-47bf-a823-43a4056114d8"
      },
      "execution_count": 7,
      "outputs": [
        {
          "output_type": "stream",
          "name": "stdout",
          "text": [
            "             ID        Age       Salary\n",
            "count  20.00000  18.000000    19.000000\n",
            "mean   10.50000  33.888889  4078.947368\n",
            "std     5.91608   6.076850   731.496903\n",
            "min     1.00000  25.000000  3000.000000\n",
            "25%     5.75000  30.000000  3500.000000\n",
            "50%    10.50000  35.000000  4500.000000\n",
            "75%    15.25000  40.000000  4500.000000\n",
            "max    20.00000  40.000000  5000.000000\n"
          ]
        }
      ]
    },
    {
      "cell_type": "code",
      "source": [
        "# finding missing value\n",
        "print(df.isnull())"
      ],
      "metadata": {
        "colab": {
          "base_uri": "https://localhost:8080/"
        },
        "id": "n2-3kRYNOiz2",
        "outputId": "d530a1a3-8e48-493d-ffd8-c73000fbc3b6"
      },
      "execution_count": 29,
      "outputs": [
        {
          "output_type": "stream",
          "name": "stdout",
          "text": [
            "       ID   Name    Age  Salary  Department\n",
            "0   False   True  False   False       False\n",
            "1   False  False  False   False       False\n",
            "2   False  False   True   False       False\n",
            "3   False   True  False   False       False\n",
            "4   False  False  False   False       False\n",
            "5   False  False  False   False       False\n",
            "6   False  False   True   False       False\n",
            "7   False   True  False   False       False\n",
            "8   False  False  False    True        True\n",
            "9   False  False  False   False       False\n",
            "10  False   True  False   False       False\n",
            "11  False  False  False   False       False\n",
            "12  False  False  False   False       False\n",
            "13  False  False  False   False       False\n",
            "14  False  False  False   False       False\n",
            "15  False  False  False   False       False\n",
            "16  False  False  False   False       False\n",
            "17  False  False  False   False        True\n",
            "18  False  False  False   False        True\n",
            "19  False  False  False   False       False\n"
          ]
        }
      ]
    },
    {
      "cell_type": "code",
      "source": [
        "print(df.isnull().any()) # column wise\n",
        "print(\" total missing value entire dataset\",df.isnull().any().any()) # entire dataframe\n"
      ],
      "metadata": {
        "colab": {
          "base_uri": "https://localhost:8080/"
        },
        "id": "BEWARVtIPbif",
        "outputId": "4bd8902a-7ecc-4114-90d5-423dca14ff35"
      },
      "execution_count": 34,
      "outputs": [
        {
          "output_type": "stream",
          "name": "stdout",
          "text": [
            "ID            False\n",
            "Name           True\n",
            "Age            True\n",
            "Salary         True\n",
            "Department     True\n",
            "dtype: bool\n",
            " total missing value entire dataset True\n"
          ]
        }
      ]
    },
    {
      "cell_type": "code",
      "source": [
        "print(df.isnull().sum())"
      ],
      "metadata": {
        "colab": {
          "base_uri": "https://localhost:8080/"
        },
        "id": "-Dz-mHw7jJ_3",
        "outputId": "5538607b-e308-4852-b8ce-c5b6b7cc2160"
      },
      "execution_count": 8,
      "outputs": [
        {
          "output_type": "stream",
          "name": "stdout",
          "text": [
            "ID            0\n",
            "Name          4\n",
            "Age           2\n",
            "Salary        1\n",
            "Department    3\n",
            "dtype: int64\n"
          ]
        }
      ]
    },
    {
      "cell_type": "code",
      "source": [
        "df['Name']=df['Name'].fillna('Unknown') # without inplace modify data not change permanently in dataset\n",
        "print(df)\n"
      ],
      "metadata": {
        "colab": {
          "base_uri": "https://localhost:8080/"
        },
        "id": "vZ-AC7YQkfjS",
        "outputId": "4b1a21c0-821b-43ec-88d4-0cae39039879"
      },
      "execution_count": 10,
      "outputs": [
        {
          "output_type": "stream",
          "name": "stdout",
          "text": [
            "    ID     Name   Age  Salary Department\n",
            "0    1  Unknown  30.0  5000.0    Finance\n",
            "1    2    Ricky  40.0  4000.0         HR\n",
            "2    3     Emma   NaN  5000.0  Marketing\n",
            "3    4  Unknown  25.0  3000.0         IT\n",
            "4    5    Steve  40.0  3500.0  Marketing\n",
            "5    6     Emma  30.0  4500.0         IT\n",
            "6    7     Emma   NaN  3000.0         IT\n",
            "7    8  Unknown  40.0  4500.0  Marketing\n",
            "8    9     Jack  25.0     NaN        NaN\n",
            "9   10    Steve  25.0  3500.0         IT\n",
            "10  11  Unknown  35.0  3500.0         IT\n",
            "11  12    Steve  35.0  3000.0  Marketing\n",
            "12  13    Steve  30.0  3500.0         IT\n",
            "13  14     Emma  40.0  5000.0         IT\n",
            "14  15    Ricky  40.0  3500.0  Marketing\n",
            "15  16    Steve  35.0  4500.0  Marketing\n",
            "16  17     Lily  40.0  4500.0         HR\n",
            "17  18     Emma  40.0  4500.0        NaN\n",
            "18  19     Jack  25.0  4500.0        NaN\n",
            "19  20    Ricky  35.0  5000.0         IT\n"
          ]
        }
      ]
    },
    {
      "cell_type": "code",
      "source": [
        "df=pd.read_csv('/large_missing_values.csv')\n",
        "print(df)"
      ],
      "metadata": {
        "colab": {
          "base_uri": "https://localhost:8080/"
        },
        "id": "Z68j6XnpsG09",
        "outputId": "3c11a9e8-33a0-4e0c-f01f-ba914feacec5"
      },
      "execution_count": 20,
      "outputs": [
        {
          "output_type": "stream",
          "name": "stdout",
          "text": [
            "    ID   Name   Age  Salary Department\n",
            "0    1    NaN  30.0  5000.0    Finance\n",
            "1    2  Ricky  40.0  4000.0         HR\n",
            "2    3   Emma   NaN  5000.0  Marketing\n",
            "3    4    NaN  25.0  3000.0         IT\n",
            "4    5  Steve  40.0  3500.0  Marketing\n",
            "5    6   Emma  30.0  4500.0         IT\n",
            "6    7   Emma   NaN  3000.0         IT\n",
            "7    8    NaN  40.0  4500.0  Marketing\n",
            "8    9   Jack  25.0     NaN        NaN\n",
            "9   10  Steve  25.0  3500.0         IT\n",
            "10  11    NaN  35.0  3500.0         IT\n",
            "11  12  Steve  35.0  3000.0  Marketing\n",
            "12  13  Steve  30.0  3500.0         IT\n",
            "13  14   Emma  40.0  5000.0         IT\n",
            "14  15  Ricky  40.0  3500.0  Marketing\n",
            "15  16  Steve  35.0  4500.0  Marketing\n",
            "16  17   Lily  40.0  4500.0         HR\n",
            "17  18   Emma  40.0  4500.0        NaN\n",
            "18  19   Jack  25.0  4500.0        NaN\n",
            "19  20  Ricky  35.0  5000.0         IT\n"
          ]
        }
      ]
    },
    {
      "cell_type": "code",
      "source": [
        "df['Name']=df['Name'].fillna('Unknown')\n",
        "print(df)"
      ],
      "metadata": {
        "colab": {
          "base_uri": "https://localhost:8080/"
        },
        "id": "Kb1ldKQQs9xo",
        "outputId": "19cd2142-7b17-4fe4-c685-aef52334ee89"
      },
      "execution_count": 21,
      "outputs": [
        {
          "output_type": "stream",
          "name": "stdout",
          "text": [
            "    ID     Name   Age  Salary Department\n",
            "0    1  Unknown  30.0  5000.0    Finance\n",
            "1    2    Ricky  40.0  4000.0         HR\n",
            "2    3     Emma   NaN  5000.0  Marketing\n",
            "3    4  Unknown  25.0  3000.0         IT\n",
            "4    5    Steve  40.0  3500.0  Marketing\n",
            "5    6     Emma  30.0  4500.0         IT\n",
            "6    7     Emma   NaN  3000.0         IT\n",
            "7    8  Unknown  40.0  4500.0  Marketing\n",
            "8    9     Jack  25.0     NaN        NaN\n",
            "9   10    Steve  25.0  3500.0         IT\n",
            "10  11  Unknown  35.0  3500.0         IT\n",
            "11  12    Steve  35.0  3000.0  Marketing\n",
            "12  13    Steve  30.0  3500.0         IT\n",
            "13  14     Emma  40.0  5000.0         IT\n",
            "14  15    Ricky  40.0  3500.0  Marketing\n",
            "15  16    Steve  35.0  4500.0  Marketing\n",
            "16  17     Lily  40.0  4500.0         HR\n",
            "17  18     Emma  40.0  4500.0        NaN\n",
            "18  19     Jack  25.0  4500.0        NaN\n",
            "19  20    Ricky  35.0  5000.0         IT\n"
          ]
        }
      ]
    },
    {
      "cell_type": "code",
      "source": [
        "df['mean_Age']= df['Age'].fillna(df['Age'].mean())\n",
        "print(df)"
      ],
      "metadata": {
        "colab": {
          "base_uri": "https://localhost:8080/"
        },
        "id": "_tZo1EMOvvNS",
        "outputId": "90aa1e5a-0816-49b0-e248-28fa498786c1"
      },
      "execution_count": 24,
      "outputs": [
        {
          "output_type": "stream",
          "name": "stdout",
          "text": [
            "    ID     Name   Age  Salary Department   mean_Age\n",
            "0    1  Unknown  30.0  5000.0    Finance  30.000000\n",
            "1    2    Ricky  40.0  4000.0         HR  40.000000\n",
            "2    3     Emma   NaN  5000.0  Marketing  33.888889\n",
            "3    4  Unknown  25.0  3000.0         IT  25.000000\n",
            "4    5    Steve  40.0  3500.0  Marketing  40.000000\n",
            "5    6     Emma  30.0  4500.0         IT  30.000000\n",
            "6    7     Emma   NaN  3000.0         IT  33.888889\n",
            "7    8  Unknown  40.0  4500.0  Marketing  40.000000\n",
            "8    9     Jack  25.0     NaN        NaN  25.000000\n",
            "9   10    Steve  25.0  3500.0         IT  25.000000\n",
            "10  11  Unknown  35.0  3500.0         IT  35.000000\n",
            "11  12    Steve  35.0  3000.0  Marketing  35.000000\n",
            "12  13    Steve  30.0  3500.0         IT  30.000000\n",
            "13  14     Emma  40.0  5000.0         IT  40.000000\n",
            "14  15    Ricky  40.0  3500.0  Marketing  40.000000\n",
            "15  16    Steve  35.0  4500.0  Marketing  35.000000\n",
            "16  17     Lily  40.0  4500.0         HR  40.000000\n",
            "17  18     Emma  40.0  4500.0        NaN  40.000000\n",
            "18  19     Jack  25.0  4500.0        NaN  25.000000\n",
            "19  20    Ricky  35.0  5000.0         IT  35.000000\n"
          ]
        }
      ]
    }
  ]
}